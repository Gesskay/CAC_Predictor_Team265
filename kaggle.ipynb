{
 "cells": [
  {
   "cell_type": "markdown",
   "id": "5ea48eef",
   "metadata": {
    "execution": {
     "iopub.execute_input": "2023-01-29T12:22:08.451655Z",
     "iopub.status.busy": "2023-01-29T12:22:08.451244Z",
     "iopub.status.idle": "2023-01-29T12:22:08.457731Z",
     "shell.execute_reply": "2023-01-29T12:22:08.456380Z",
     "shell.execute_reply.started": "2023-01-29T12:22:08.451623Z"
    },
    "papermill": {
     "duration": 0.010911,
     "end_time": "2023-02-02T15:01:37.529417",
     "exception": false,
     "start_time": "2023-02-02T15:01:37.518506",
     "status": "completed"
    },
    "tags": []
   },
   "source": [
    "# Goal"
   ]
  },
  {
   "cell_type": "markdown",
   "id": "f3b297c4",
   "metadata": {
    "papermill": {
     "duration": 0.009832,
     "end_time": "2023-02-02T15:01:37.549410",
     "exception": false,
     "start_time": "2023-02-02T15:01:37.539578",
     "status": "completed"
    },
    "tags": []
   },
   "source": [
    "****The main questions of interest for this project are:****\n",
    "\n",
    "****1. Predict cost on media campaings in food mart of USA on the basis of the 60k customers income,product,promotion and store features.****\n",
    "\n",
    "****2. Explore the important factors that affect the cost on media campaings****\n",
    "\n",
    "****Solution Plan:****\n",
    "\n",
    "****Dataset Overview:****\n",
    "\n",
    "Understand the dataset by analyzing the variables, data types, and distribution of data in each column.\n",
    "Check for any missing values or outliers that need to be addressed before proceeding with analysis.\n",
    "\n",
    "****Exploratory Analysis:****\n",
    "\n",
    "Perform exploratory data analysis to identify patterns, relationships, and correlations between the different variables in the dataset.\n",
    "\n",
    "Plot visualizations such as histograms, scatter plots, and box plots to better understand the data distribution.\n",
    "\n",
    "****Simple Data Cleaning & Feature Selection:****\n",
    "\n",
    "Clean the data by handling missing values and outliers.\n",
    "\n",
    "Select the most relevant features for the analysis by using methods such as correlation analysis and feature importance ranking.\n",
    "\n",
    "****Machine Learning:****\n",
    "\n",
    "Train a machine learning model on the cleaned and feature-selected data.\n",
    "\n",
    "Use regression algorithms such as linear regression or decision tree regression to predict the cost of media campaigns based on customer income, product, promotion, and store features.\n",
    "\n",
    "Evaluate the performance of the model by using metrics such as mean squared error, mean absolute error, or R-squared."
   ]
  },
  {
   "cell_type": "markdown",
   "id": "0a2af0ea",
   "metadata": {
    "papermill": {
     "duration": 0.009801,
     "end_time": "2023-02-02T15:01:37.569330",
     "exception": false,
     "start_time": "2023-02-02T15:01:37.559529",
     "status": "completed"
    },
    "tags": []
   },
   "source": [
    "# Datasets Overview"
   ]
  },
  {
   "cell_type": "code",
   "execution_count": 1,
   "id": "1567a294",
   "metadata": {
    "execution": {
     "iopub.execute_input": "2023-02-02T15:01:37.592740Z",
     "iopub.status.busy": "2023-02-02T15:01:37.592148Z",
     "iopub.status.idle": "2023-02-02T15:01:38.583830Z",
     "shell.execute_reply": "2023-02-02T15:01:38.582795Z"
    },
    "papermill": {
     "duration": 1.006033,
     "end_time": "2023-02-02T15:01:38.586558",
     "exception": false,
     "start_time": "2023-02-02T15:01:37.580525",
     "status": "completed"
    },
    "tags": []
   },
   "outputs": [],
   "source": [
    "import pandas as pd\n",
    "import seaborn as sns \n",
    "import matplotlib.pyplot as plt\n",
    "import numpy as np"
   ]
  },
  {
   "cell_type": "code",
   "execution_count": 2,
   "id": "515d7a40",
   "metadata": {
    "execution": {
     "iopub.execute_input": "2023-02-02T15:01:38.607967Z",
     "iopub.status.busy": "2023-02-02T15:01:38.607593Z",
     "iopub.status.idle": "2023-02-02T15:01:39.121003Z",
     "shell.execute_reply": "2023-02-02T15:01:39.119758Z"
    },
    "papermill": {
     "duration": 0.526814,
     "end_time": "2023-02-02T15:01:39.123388",
     "exception": false,
     "start_time": "2023-02-02T15:01:38.596574",
     "status": "completed"
    },
    "tags": []
   },
   "outputs": [
    {
     "data": {
      "text/html": [
       "<div>\n",
       "<style scoped>\n",
       "    .dataframe tbody tr th:only-of-type {\n",
       "        vertical-align: middle;\n",
       "    }\n",
       "\n",
       "    .dataframe tbody tr th {\n",
       "        vertical-align: top;\n",
       "    }\n",
       "\n",
       "    .dataframe thead th {\n",
       "        text-align: right;\n",
       "    }\n",
       "</style>\n",
       "<table border=\"1\" class=\"dataframe\">\n",
       "  <thead>\n",
       "    <tr style=\"text-align: right;\">\n",
       "      <th></th>\n",
       "      <th>food_category</th>\n",
       "      <th>food_department</th>\n",
       "      <th>food_family</th>\n",
       "      <th>store_sales(in millions)</th>\n",
       "      <th>store_cost(in millions)</th>\n",
       "      <th>unit_sales(in millions)</th>\n",
       "      <th>promotion_name</th>\n",
       "      <th>sales_country</th>\n",
       "      <th>marital_status</th>\n",
       "      <th>gender</th>\n",
       "      <th>...</th>\n",
       "      <th>grocery_sqft</th>\n",
       "      <th>frozen_sqft</th>\n",
       "      <th>meat_sqft</th>\n",
       "      <th>coffee_bar</th>\n",
       "      <th>video_store</th>\n",
       "      <th>salad_bar</th>\n",
       "      <th>prepared_food</th>\n",
       "      <th>florist</th>\n",
       "      <th>media_type</th>\n",
       "      <th>cost</th>\n",
       "    </tr>\n",
       "  </thead>\n",
       "  <tbody>\n",
       "    <tr>\n",
       "      <th>0</th>\n",
       "      <td>Breakfast Foods</td>\n",
       "      <td>Frozen Foods</td>\n",
       "      <td>Food</td>\n",
       "      <td>7.36</td>\n",
       "      <td>2.7232</td>\n",
       "      <td>4.0</td>\n",
       "      <td>Bag Stuffers</td>\n",
       "      <td>USA</td>\n",
       "      <td>M</td>\n",
       "      <td>F</td>\n",
       "      <td>...</td>\n",
       "      <td>18670.0</td>\n",
       "      <td>5415.0</td>\n",
       "      <td>3610.0</td>\n",
       "      <td>1.0</td>\n",
       "      <td>1.0</td>\n",
       "      <td>1.0</td>\n",
       "      <td>1.0</td>\n",
       "      <td>1.0</td>\n",
       "      <td>Daily Paper, Radio</td>\n",
       "      <td>126.62</td>\n",
       "    </tr>\n",
       "    <tr>\n",
       "      <th>1</th>\n",
       "      <td>Breakfast Foods</td>\n",
       "      <td>Frozen Foods</td>\n",
       "      <td>Food</td>\n",
       "      <td>5.52</td>\n",
       "      <td>2.5944</td>\n",
       "      <td>3.0</td>\n",
       "      <td>Cash Register Lottery</td>\n",
       "      <td>USA</td>\n",
       "      <td>M</td>\n",
       "      <td>M</td>\n",
       "      <td>...</td>\n",
       "      <td>18670.0</td>\n",
       "      <td>5415.0</td>\n",
       "      <td>3610.0</td>\n",
       "      <td>1.0</td>\n",
       "      <td>1.0</td>\n",
       "      <td>1.0</td>\n",
       "      <td>1.0</td>\n",
       "      <td>1.0</td>\n",
       "      <td>Daily Paper, Radio</td>\n",
       "      <td>59.86</td>\n",
       "    </tr>\n",
       "    <tr>\n",
       "      <th>2</th>\n",
       "      <td>Breakfast Foods</td>\n",
       "      <td>Frozen Foods</td>\n",
       "      <td>Food</td>\n",
       "      <td>3.68</td>\n",
       "      <td>1.3616</td>\n",
       "      <td>2.0</td>\n",
       "      <td>High Roller Savings</td>\n",
       "      <td>USA</td>\n",
       "      <td>S</td>\n",
       "      <td>F</td>\n",
       "      <td>...</td>\n",
       "      <td>18670.0</td>\n",
       "      <td>5415.0</td>\n",
       "      <td>3610.0</td>\n",
       "      <td>1.0</td>\n",
       "      <td>1.0</td>\n",
       "      <td>1.0</td>\n",
       "      <td>1.0</td>\n",
       "      <td>1.0</td>\n",
       "      <td>Daily Paper, Radio</td>\n",
       "      <td>84.16</td>\n",
       "    </tr>\n",
       "    <tr>\n",
       "      <th>3</th>\n",
       "      <td>Breakfast Foods</td>\n",
       "      <td>Frozen Foods</td>\n",
       "      <td>Food</td>\n",
       "      <td>3.68</td>\n",
       "      <td>1.1776</td>\n",
       "      <td>2.0</td>\n",
       "      <td>Cash Register Lottery</td>\n",
       "      <td>USA</td>\n",
       "      <td>M</td>\n",
       "      <td>F</td>\n",
       "      <td>...</td>\n",
       "      <td>18670.0</td>\n",
       "      <td>5415.0</td>\n",
       "      <td>3610.0</td>\n",
       "      <td>1.0</td>\n",
       "      <td>1.0</td>\n",
       "      <td>1.0</td>\n",
       "      <td>1.0</td>\n",
       "      <td>1.0</td>\n",
       "      <td>In-Store Coupon</td>\n",
       "      <td>95.78</td>\n",
       "    </tr>\n",
       "    <tr>\n",
       "      <th>4</th>\n",
       "      <td>Breakfast Foods</td>\n",
       "      <td>Frozen Foods</td>\n",
       "      <td>Food</td>\n",
       "      <td>4.08</td>\n",
       "      <td>1.4280</td>\n",
       "      <td>3.0</td>\n",
       "      <td>Double Down Sale</td>\n",
       "      <td>USA</td>\n",
       "      <td>M</td>\n",
       "      <td>M</td>\n",
       "      <td>...</td>\n",
       "      <td>18670.0</td>\n",
       "      <td>5415.0</td>\n",
       "      <td>3610.0</td>\n",
       "      <td>1.0</td>\n",
       "      <td>1.0</td>\n",
       "      <td>1.0</td>\n",
       "      <td>1.0</td>\n",
       "      <td>1.0</td>\n",
       "      <td>Radio</td>\n",
       "      <td>50.79</td>\n",
       "    </tr>\n",
       "  </tbody>\n",
       "</table>\n",
       "<p>5 rows × 40 columns</p>\n",
       "</div>"
      ],
      "text/plain": [
       "     food_category food_department food_family  store_sales(in millions)  \\\n",
       "0  Breakfast Foods    Frozen Foods        Food                      7.36   \n",
       "1  Breakfast Foods    Frozen Foods        Food                      5.52   \n",
       "2  Breakfast Foods    Frozen Foods        Food                      3.68   \n",
       "3  Breakfast Foods    Frozen Foods        Food                      3.68   \n",
       "4  Breakfast Foods    Frozen Foods        Food                      4.08   \n",
       "\n",
       "   store_cost(in millions)  unit_sales(in millions)         promotion_name  \\\n",
       "0                   2.7232                      4.0           Bag Stuffers   \n",
       "1                   2.5944                      3.0  Cash Register Lottery   \n",
       "2                   1.3616                      2.0    High Roller Savings   \n",
       "3                   1.1776                      2.0  Cash Register Lottery   \n",
       "4                   1.4280                      3.0       Double Down Sale   \n",
       "\n",
       "  sales_country marital_status gender  ...  grocery_sqft frozen_sqft  \\\n",
       "0           USA              M      F  ...       18670.0      5415.0   \n",
       "1           USA              M      M  ...       18670.0      5415.0   \n",
       "2           USA              S      F  ...       18670.0      5415.0   \n",
       "3           USA              M      F  ...       18670.0      5415.0   \n",
       "4           USA              M      M  ...       18670.0      5415.0   \n",
       "\n",
       "  meat_sqft coffee_bar video_store  salad_bar prepared_food  florist  \\\n",
       "0    3610.0        1.0         1.0        1.0           1.0      1.0   \n",
       "1    3610.0        1.0         1.0        1.0           1.0      1.0   \n",
       "2    3610.0        1.0         1.0        1.0           1.0      1.0   \n",
       "3    3610.0        1.0         1.0        1.0           1.0      1.0   \n",
       "4    3610.0        1.0         1.0        1.0           1.0      1.0   \n",
       "\n",
       "           media_type    cost  \n",
       "0  Daily Paper, Radio  126.62  \n",
       "1  Daily Paper, Radio   59.86  \n",
       "2  Daily Paper, Radio   84.16  \n",
       "3     In-Store Coupon   95.78  \n",
       "4               Radio   50.79  \n",
       "\n",
       "[5 rows x 40 columns]"
      ]
     },
     "execution_count": 2,
     "metadata": {},
     "output_type": "execute_result"
    }
   ],
   "source": [
    "df=pd.read_csv(\"../input/medias-cost-prediction-in-foodmart/media prediction and its cost.csv\")\n",
    "df.head()"
   ]
  },
  {
   "cell_type": "code",
   "execution_count": 3,
   "id": "561e0096",
   "metadata": {
    "execution": {
     "iopub.execute_input": "2023-02-02T15:01:39.145775Z",
     "iopub.status.busy": "2023-02-02T15:01:39.145430Z",
     "iopub.status.idle": "2023-02-02T15:01:39.299596Z",
     "shell.execute_reply": "2023-02-02T15:01:39.298179Z"
    },
    "papermill": {
     "duration": 0.167698,
     "end_time": "2023-02-02T15:01:39.301562",
     "exception": false,
     "start_time": "2023-02-02T15:01:39.133864",
     "status": "completed"
    },
    "tags": []
   },
   "outputs": [
    {
     "name": "stdout",
     "output_type": "stream",
     "text": [
      "<class 'pandas.core.frame.DataFrame'>\n",
      "RangeIndex: 60428 entries, 0 to 60427\n",
      "Data columns (total 40 columns):\n",
      " #   Column                      Non-Null Count  Dtype  \n",
      "---  ------                      --------------  -----  \n",
      " 0   food_category               60428 non-null  object \n",
      " 1   food_department             60428 non-null  object \n",
      " 2   food_family                 60428 non-null  object \n",
      " 3   store_sales(in millions)    60428 non-null  float64\n",
      " 4   store_cost(in millions)     60428 non-null  float64\n",
      " 5   unit_sales(in millions)     60428 non-null  float64\n",
      " 6   promotion_name              60428 non-null  object \n",
      " 7   sales_country               60428 non-null  object \n",
      " 8   marital_status              60428 non-null  object \n",
      " 9   gender                      60428 non-null  object \n",
      " 10  total_children              60428 non-null  float64\n",
      " 11  education                   60428 non-null  object \n",
      " 12  member_card                 60428 non-null  object \n",
      " 13  occupation                  60428 non-null  object \n",
      " 14  houseowner                  60428 non-null  object \n",
      " 15  avg_cars_at home(approx)    60428 non-null  float64\n",
      " 16  avg. yearly_income          60428 non-null  object \n",
      " 17  num_children_at_home        60428 non-null  float64\n",
      " 18  avg_cars_at home(approx).1  60428 non-null  float64\n",
      " 19  brand_name                  60428 non-null  object \n",
      " 20  SRP                         60428 non-null  float64\n",
      " 21  gross_weight                60428 non-null  float64\n",
      " 22  net_weight                  60428 non-null  float64\n",
      " 23  recyclable_package          60428 non-null  float64\n",
      " 24  low_fat                     60428 non-null  float64\n",
      " 25  units_per_case              60428 non-null  float64\n",
      " 26  store_type                  60428 non-null  object \n",
      " 27  store_city                  60428 non-null  object \n",
      " 28  store_state                 60428 non-null  object \n",
      " 29  store_sqft                  60428 non-null  float64\n",
      " 30  grocery_sqft                60428 non-null  float64\n",
      " 31  frozen_sqft                 60428 non-null  float64\n",
      " 32  meat_sqft                   60428 non-null  float64\n",
      " 33  coffee_bar                  60428 non-null  float64\n",
      " 34  video_store                 60428 non-null  float64\n",
      " 35  salad_bar                   60428 non-null  float64\n",
      " 36  prepared_food               60428 non-null  float64\n",
      " 37  florist                     60428 non-null  float64\n",
      " 38  media_type                  60428 non-null  object \n",
      " 39  cost                        60428 non-null  float64\n",
      "dtypes: float64(23), object(17)\n",
      "memory usage: 18.4+ MB\n"
     ]
    },
    {
     "data": {
      "text/html": [
       "<div>\n",
       "<style scoped>\n",
       "    .dataframe tbody tr th:only-of-type {\n",
       "        vertical-align: middle;\n",
       "    }\n",
       "\n",
       "    .dataframe tbody tr th {\n",
       "        vertical-align: top;\n",
       "    }\n",
       "\n",
       "    .dataframe thead th {\n",
       "        text-align: right;\n",
       "    }\n",
       "</style>\n",
       "<table border=\"1\" class=\"dataframe\">\n",
       "  <thead>\n",
       "    <tr style=\"text-align: right;\">\n",
       "      <th></th>\n",
       "      <th>store_sales(in millions)</th>\n",
       "      <th>store_cost(in millions)</th>\n",
       "      <th>unit_sales(in millions)</th>\n",
       "      <th>total_children</th>\n",
       "      <th>avg_cars_at home(approx)</th>\n",
       "      <th>num_children_at_home</th>\n",
       "      <th>avg_cars_at home(approx).1</th>\n",
       "      <th>SRP</th>\n",
       "      <th>gross_weight</th>\n",
       "      <th>net_weight</th>\n",
       "      <th>...</th>\n",
       "      <th>store_sqft</th>\n",
       "      <th>grocery_sqft</th>\n",
       "      <th>frozen_sqft</th>\n",
       "      <th>meat_sqft</th>\n",
       "      <th>coffee_bar</th>\n",
       "      <th>video_store</th>\n",
       "      <th>salad_bar</th>\n",
       "      <th>prepared_food</th>\n",
       "      <th>florist</th>\n",
       "      <th>cost</th>\n",
       "    </tr>\n",
       "  </thead>\n",
       "  <tbody>\n",
       "    <tr>\n",
       "      <th>count</th>\n",
       "      <td>60428.000000</td>\n",
       "      <td>60428.000000</td>\n",
       "      <td>60428.000000</td>\n",
       "      <td>60428.000000</td>\n",
       "      <td>60428.000000</td>\n",
       "      <td>60428.000000</td>\n",
       "      <td>60428.000000</td>\n",
       "      <td>60428.000000</td>\n",
       "      <td>60428.000000</td>\n",
       "      <td>60428.000000</td>\n",
       "      <td>...</td>\n",
       "      <td>60428.000000</td>\n",
       "      <td>60428.000000</td>\n",
       "      <td>60428.000000</td>\n",
       "      <td>60428.000000</td>\n",
       "      <td>60428.000000</td>\n",
       "      <td>60428.000000</td>\n",
       "      <td>60428.000000</td>\n",
       "      <td>60428.000000</td>\n",
       "      <td>60428.000000</td>\n",
       "      <td>60428.000000</td>\n",
       "    </tr>\n",
       "    <tr>\n",
       "      <th>mean</th>\n",
       "      <td>6.541031</td>\n",
       "      <td>2.619460</td>\n",
       "      <td>3.093169</td>\n",
       "      <td>2.533875</td>\n",
       "      <td>2.200271</td>\n",
       "      <td>0.829351</td>\n",
       "      <td>2.200271</td>\n",
       "      <td>2.115258</td>\n",
       "      <td>13.806433</td>\n",
       "      <td>11.796289</td>\n",
       "      <td>...</td>\n",
       "      <td>27988.477494</td>\n",
       "      <td>19133.799696</td>\n",
       "      <td>5312.852552</td>\n",
       "      <td>3541.846280</td>\n",
       "      <td>0.612646</td>\n",
       "      <td>0.354157</td>\n",
       "      <td>0.587956</td>\n",
       "      <td>0.587956</td>\n",
       "      <td>0.562603</td>\n",
       "      <td>99.262366</td>\n",
       "    </tr>\n",
       "    <tr>\n",
       "      <th>std</th>\n",
       "      <td>3.463047</td>\n",
       "      <td>1.453009</td>\n",
       "      <td>0.827677</td>\n",
       "      <td>1.490165</td>\n",
       "      <td>1.109644</td>\n",
       "      <td>1.303424</td>\n",
       "      <td>1.109644</td>\n",
       "      <td>0.932829</td>\n",
       "      <td>4.622693</td>\n",
       "      <td>4.682986</td>\n",
       "      <td>...</td>\n",
       "      <td>5701.022090</td>\n",
       "      <td>3987.395735</td>\n",
       "      <td>1575.907263</td>\n",
       "      <td>1050.471635</td>\n",
       "      <td>0.487150</td>\n",
       "      <td>0.478261</td>\n",
       "      <td>0.492207</td>\n",
       "      <td>0.492207</td>\n",
       "      <td>0.496069</td>\n",
       "      <td>30.011257</td>\n",
       "    </tr>\n",
       "    <tr>\n",
       "      <th>min</th>\n",
       "      <td>0.510000</td>\n",
       "      <td>0.163200</td>\n",
       "      <td>1.000000</td>\n",
       "      <td>0.000000</td>\n",
       "      <td>0.000000</td>\n",
       "      <td>0.000000</td>\n",
       "      <td>0.000000</td>\n",
       "      <td>0.500000</td>\n",
       "      <td>6.000000</td>\n",
       "      <td>3.050000</td>\n",
       "      <td>...</td>\n",
       "      <td>20319.000000</td>\n",
       "      <td>13305.000000</td>\n",
       "      <td>2452.000000</td>\n",
       "      <td>1635.000000</td>\n",
       "      <td>0.000000</td>\n",
       "      <td>0.000000</td>\n",
       "      <td>0.000000</td>\n",
       "      <td>0.000000</td>\n",
       "      <td>0.000000</td>\n",
       "      <td>50.790000</td>\n",
       "    </tr>\n",
       "    <tr>\n",
       "      <th>25%</th>\n",
       "      <td>3.810000</td>\n",
       "      <td>1.500000</td>\n",
       "      <td>3.000000</td>\n",
       "      <td>1.000000</td>\n",
       "      <td>1.000000</td>\n",
       "      <td>0.000000</td>\n",
       "      <td>1.000000</td>\n",
       "      <td>1.410000</td>\n",
       "      <td>9.700000</td>\n",
       "      <td>7.710000</td>\n",
       "      <td>...</td>\n",
       "      <td>23593.000000</td>\n",
       "      <td>16232.000000</td>\n",
       "      <td>4746.000000</td>\n",
       "      <td>3164.000000</td>\n",
       "      <td>0.000000</td>\n",
       "      <td>0.000000</td>\n",
       "      <td>0.000000</td>\n",
       "      <td>0.000000</td>\n",
       "      <td>0.000000</td>\n",
       "      <td>69.650000</td>\n",
       "    </tr>\n",
       "    <tr>\n",
       "      <th>50%</th>\n",
       "      <td>5.940000</td>\n",
       "      <td>2.385600</td>\n",
       "      <td>3.000000</td>\n",
       "      <td>3.000000</td>\n",
       "      <td>2.000000</td>\n",
       "      <td>0.000000</td>\n",
       "      <td>2.000000</td>\n",
       "      <td>2.130000</td>\n",
       "      <td>13.600000</td>\n",
       "      <td>11.600000</td>\n",
       "      <td>...</td>\n",
       "      <td>27694.000000</td>\n",
       "      <td>18670.000000</td>\n",
       "      <td>5062.000000</td>\n",
       "      <td>3375.000000</td>\n",
       "      <td>1.000000</td>\n",
       "      <td>0.000000</td>\n",
       "      <td>1.000000</td>\n",
       "      <td>1.000000</td>\n",
       "      <td>1.000000</td>\n",
       "      <td>98.520000</td>\n",
       "    </tr>\n",
       "    <tr>\n",
       "      <th>75%</th>\n",
       "      <td>8.670000</td>\n",
       "      <td>3.484025</td>\n",
       "      <td>4.000000</td>\n",
       "      <td>4.000000</td>\n",
       "      <td>3.000000</td>\n",
       "      <td>1.000000</td>\n",
       "      <td>3.000000</td>\n",
       "      <td>2.790000</td>\n",
       "      <td>17.700000</td>\n",
       "      <td>16.000000</td>\n",
       "      <td>...</td>\n",
       "      <td>30797.000000</td>\n",
       "      <td>22123.000000</td>\n",
       "      <td>5751.000000</td>\n",
       "      <td>3834.000000</td>\n",
       "      <td>1.000000</td>\n",
       "      <td>1.000000</td>\n",
       "      <td>1.000000</td>\n",
       "      <td>1.000000</td>\n",
       "      <td>1.000000</td>\n",
       "      <td>126.620000</td>\n",
       "    </tr>\n",
       "    <tr>\n",
       "      <th>max</th>\n",
       "      <td>22.920000</td>\n",
       "      <td>9.726500</td>\n",
       "      <td>6.000000</td>\n",
       "      <td>5.000000</td>\n",
       "      <td>4.000000</td>\n",
       "      <td>5.000000</td>\n",
       "      <td>4.000000</td>\n",
       "      <td>3.980000</td>\n",
       "      <td>21.900000</td>\n",
       "      <td>20.800000</td>\n",
       "      <td>...</td>\n",
       "      <td>39696.000000</td>\n",
       "      <td>30351.000000</td>\n",
       "      <td>9184.000000</td>\n",
       "      <td>6122.000000</td>\n",
       "      <td>1.000000</td>\n",
       "      <td>1.000000</td>\n",
       "      <td>1.000000</td>\n",
       "      <td>1.000000</td>\n",
       "      <td>1.000000</td>\n",
       "      <td>149.750000</td>\n",
       "    </tr>\n",
       "  </tbody>\n",
       "</table>\n",
       "<p>8 rows × 23 columns</p>\n",
       "</div>"
      ],
      "text/plain": [
       "       store_sales(in millions)  store_cost(in millions)  \\\n",
       "count              60428.000000             60428.000000   \n",
       "mean                   6.541031                 2.619460   \n",
       "std                    3.463047                 1.453009   \n",
       "min                    0.510000                 0.163200   \n",
       "25%                    3.810000                 1.500000   \n",
       "50%                    5.940000                 2.385600   \n",
       "75%                    8.670000                 3.484025   \n",
       "max                   22.920000                 9.726500   \n",
       "\n",
       "       unit_sales(in millions)  total_children  avg_cars_at home(approx)  \\\n",
       "count             60428.000000    60428.000000              60428.000000   \n",
       "mean                  3.093169        2.533875                  2.200271   \n",
       "std                   0.827677        1.490165                  1.109644   \n",
       "min                   1.000000        0.000000                  0.000000   \n",
       "25%                   3.000000        1.000000                  1.000000   \n",
       "50%                   3.000000        3.000000                  2.000000   \n",
       "75%                   4.000000        4.000000                  3.000000   \n",
       "max                   6.000000        5.000000                  4.000000   \n",
       "\n",
       "       num_children_at_home  avg_cars_at home(approx).1           SRP  \\\n",
       "count          60428.000000                60428.000000  60428.000000   \n",
       "mean               0.829351                    2.200271      2.115258   \n",
       "std                1.303424                    1.109644      0.932829   \n",
       "min                0.000000                    0.000000      0.500000   \n",
       "25%                0.000000                    1.000000      1.410000   \n",
       "50%                0.000000                    2.000000      2.130000   \n",
       "75%                1.000000                    3.000000      2.790000   \n",
       "max                5.000000                    4.000000      3.980000   \n",
       "\n",
       "       gross_weight    net_weight  ...    store_sqft  grocery_sqft  \\\n",
       "count  60428.000000  60428.000000  ...  60428.000000  60428.000000   \n",
       "mean      13.806433     11.796289  ...  27988.477494  19133.799696   \n",
       "std        4.622693      4.682986  ...   5701.022090   3987.395735   \n",
       "min        6.000000      3.050000  ...  20319.000000  13305.000000   \n",
       "25%        9.700000      7.710000  ...  23593.000000  16232.000000   \n",
       "50%       13.600000     11.600000  ...  27694.000000  18670.000000   \n",
       "75%       17.700000     16.000000  ...  30797.000000  22123.000000   \n",
       "max       21.900000     20.800000  ...  39696.000000  30351.000000   \n",
       "\n",
       "        frozen_sqft     meat_sqft    coffee_bar   video_store     salad_bar  \\\n",
       "count  60428.000000  60428.000000  60428.000000  60428.000000  60428.000000   \n",
       "mean    5312.852552   3541.846280      0.612646      0.354157      0.587956   \n",
       "std     1575.907263   1050.471635      0.487150      0.478261      0.492207   \n",
       "min     2452.000000   1635.000000      0.000000      0.000000      0.000000   \n",
       "25%     4746.000000   3164.000000      0.000000      0.000000      0.000000   \n",
       "50%     5062.000000   3375.000000      1.000000      0.000000      1.000000   \n",
       "75%     5751.000000   3834.000000      1.000000      1.000000      1.000000   \n",
       "max     9184.000000   6122.000000      1.000000      1.000000      1.000000   \n",
       "\n",
       "       prepared_food       florist          cost  \n",
       "count   60428.000000  60428.000000  60428.000000  \n",
       "mean        0.587956      0.562603     99.262366  \n",
       "std         0.492207      0.496069     30.011257  \n",
       "min         0.000000      0.000000     50.790000  \n",
       "25%         0.000000      0.000000     69.650000  \n",
       "50%         1.000000      1.000000     98.520000  \n",
       "75%         1.000000      1.000000    126.620000  \n",
       "max         1.000000      1.000000    149.750000  \n",
       "\n",
       "[8 rows x 23 columns]"
      ]
     },
     "execution_count": 3,
     "metadata": {},
     "output_type": "execute_result"
    }
   ],
   "source": [
    "df.columns\n",
    "df.info()\n",
    "df.describe()"
   ]
  },
  {
   "cell_type": "markdown",
   "id": "3c7d2133",
   "metadata": {
    "papermill": {
     "duration": 0.010268,
     "end_time": "2023-02-02T15:01:39.322541",
     "exception": false,
     "start_time": "2023-02-02T15:01:39.312273",
     "status": "completed"
    },
    "tags": []
   },
   "source": [
    "****There are 40 columns in the dataset. It's tricky to examine it with the \"head()\" command, so I'll split it into datatypes for a better look.****"
   ]
  },
  {
   "cell_type": "code",
   "execution_count": 4,
   "id": "1b31449c",
   "metadata": {
    "execution": {
     "iopub.execute_input": "2023-02-02T15:01:39.345106Z",
     "iopub.status.busy": "2023-02-02T15:01:39.344770Z",
     "iopub.status.idle": "2023-02-02T15:01:39.352803Z",
     "shell.execute_reply": "2023-02-02T15:01:39.351827Z"
    },
    "papermill": {
     "duration": 0.021854,
     "end_time": "2023-02-02T15:01:39.354941",
     "exception": false,
     "start_time": "2023-02-02T15:01:39.333087",
     "status": "completed"
    },
    "tags": []
   },
   "outputs": [
    {
     "data": {
      "text/plain": [
       "float64    23\n",
       "object     17\n",
       "dtype: int64"
      ]
     },
     "execution_count": 4,
     "metadata": {},
     "output_type": "execute_result"
    }
   ],
   "source": [
    "df.dtypes.value_counts()"
   ]
  },
  {
   "cell_type": "code",
   "execution_count": 5,
   "id": "a26c8e4d",
   "metadata": {
    "execution": {
     "iopub.execute_input": "2023-02-02T15:01:39.378263Z",
     "iopub.status.busy": "2023-02-02T15:01:39.377884Z",
     "iopub.status.idle": "2023-02-02T15:01:39.386110Z",
     "shell.execute_reply": "2023-02-02T15:01:39.384942Z"
    },
    "papermill": {
     "duration": 0.022177,
     "end_time": "2023-02-02T15:01:39.388048",
     "exception": false,
     "start_time": "2023-02-02T15:01:39.365871",
     "status": "completed"
    },
    "tags": []
   },
   "outputs": [
    {
     "data": {
      "text/plain": [
       "Index(['food_category', 'food_department', 'food_family', 'promotion_name',\n",
       "       'sales_country', 'marital_status', 'gender', 'education', 'member_card',\n",
       "       'occupation', 'houseowner', 'avg. yearly_income', 'brand_name',\n",
       "       'store_type', 'store_city', 'store_state', 'media_type'],\n",
       "      dtype='object')"
      ]
     },
     "execution_count": 5,
     "metadata": {},
     "output_type": "execute_result"
    }
   ],
   "source": [
    "df.columns[df.dtypes=='object']"
   ]
  },
  {
   "cell_type": "code",
   "execution_count": 6,
   "id": "2646f0f1",
   "metadata": {
    "execution": {
     "iopub.execute_input": "2023-02-02T15:01:39.414463Z",
     "iopub.status.busy": "2023-02-02T15:01:39.414035Z",
     "iopub.status.idle": "2023-02-02T15:01:39.421760Z",
     "shell.execute_reply": "2023-02-02T15:01:39.421057Z"
    },
    "papermill": {
     "duration": 0.023195,
     "end_time": "2023-02-02T15:01:39.423425",
     "exception": false,
     "start_time": "2023-02-02T15:01:39.400230",
     "status": "completed"
    },
    "tags": []
   },
   "outputs": [
    {
     "data": {
      "text/plain": [
       "Index(['store_sales(in millions)', 'store_cost(in millions)',\n",
       "       'unit_sales(in millions)', 'total_children', 'avg_cars_at home(approx)',\n",
       "       'num_children_at_home', 'avg_cars_at home(approx).1', 'SRP',\n",
       "       'gross_weight', 'net_weight', 'recyclable_package', 'low_fat',\n",
       "       'units_per_case', 'store_sqft', 'grocery_sqft', 'frozen_sqft',\n",
       "       'meat_sqft', 'coffee_bar', 'video_store', 'salad_bar', 'prepared_food',\n",
       "       'florist', 'cost'],\n",
       "      dtype='object')"
      ]
     },
     "execution_count": 6,
     "metadata": {},
     "output_type": "execute_result"
    }
   ],
   "source": [
    "df.columns[df.dtypes!='object']"
   ]
  },
  {
   "cell_type": "code",
   "execution_count": 7,
   "id": "58ff6d48",
   "metadata": {
    "execution": {
     "iopub.execute_input": "2023-02-02T15:01:39.452220Z",
     "iopub.status.busy": "2023-02-02T15:01:39.451759Z",
     "iopub.status.idle": "2023-02-02T15:01:39.528769Z",
     "shell.execute_reply": "2023-02-02T15:01:39.527782Z"
    },
    "papermill": {
     "duration": 0.093398,
     "end_time": "2023-02-02T15:01:39.531619",
     "exception": false,
     "start_time": "2023-02-02T15:01:39.438221",
     "status": "completed"
    },
    "tags": []
   },
   "outputs": [
    {
     "name": "stdout",
     "output_type": "stream",
     "text": [
      "Unique values in column food_category: ['Breakfast Foods' 'Bread' 'Canned Shrimp' 'Baking Goods' 'Vegetables'\n",
      " 'Frozen Desserts' 'Candy' 'Snack Foods' 'Dairy' 'Starchy Foods'\n",
      " 'Cleaning Supplies' 'Decongestants' 'Meat' 'Hot Beverages'\n",
      " 'Jams and Jellies' 'Carbonated Beverages' 'Seafood' 'Specialty'\n",
      " 'Kitchen Products' 'Electrical' 'Beer and Wine' 'Candles' 'Fruit'\n",
      " 'Pure Juice Beverages' 'Canned Soup' 'Paper Products' 'Canned Tuna'\n",
      " 'Eggs' 'Hardware' 'Canned Sardines' 'Canned Clams' 'Pain Relievers'\n",
      " 'Side Dishes' 'Bathroom Products' 'Magazines' 'Frozen Entrees' 'Pizza'\n",
      " 'Cold Remedies' 'Canned Anchovies' 'Drinks' 'Hygiene' 'Plastic Products'\n",
      " 'Canned Oysters' 'Packaged Vegetables' 'Miscellaneous']\n",
      "Unique values in column food_department: ['Frozen Foods' 'Baked Goods' 'Canned Foods' 'Baking Goods' 'Produce'\n",
      " 'Snacks' 'Snack Foods' 'Dairy' 'Starchy Foods' 'Household'\n",
      " 'Health and Hygiene' 'Meat' 'Beverages' 'Seafood' 'Deli'\n",
      " 'Alcoholic Beverages' 'Canned Products' 'Eggs' 'Periodicals'\n",
      " 'Breakfast Foods' 'Checkout' 'Carousel']\n",
      "Unique values in column food_family: ['Food' 'Non-Consumable' 'Drink']\n",
      "Unique values in column promotion_name: ['Bag Stuffers' 'Cash Register Lottery' 'High Roller Savings'\n",
      " 'Double Down Sale' 'Green Light Days' 'Big Time Savings' 'Price Savers'\n",
      " 'Price Slashers' 'Dollar Days' 'Two Day Sale' 'Super Duper Savers'\n",
      " 'Weekend Markdown' 'Dollar Cutters' 'Sales Galore' 'Big Promo'\n",
      " 'Free For All' 'Savings Galore' 'Unbeatable Price Savers'\n",
      " 'Price Smashers' 'Shelf Clearing Days' 'Sales Days' 'Go For It'\n",
      " 'Super Savers' 'Wallet Savers' 'Save-It Sale' 'Price Destroyers'\n",
      " 'Two for One' 'Big Time Discounts' 'Shelf Emptiers' 'Bye Bye Baby'\n",
      " 'One Day Sale' 'Fantastic Discounts' 'Saving Days' 'You Save Days'\n",
      " 'Sale Winners' 'Coupon Spectacular' 'Three for One' 'Price Winners'\n",
      " 'Dimes Off' 'I Cant Believe It Sale' 'Money Savers' 'Green Light Special'\n",
      " 'Price Cutters' 'Tip Top Savings' 'Best Savings' 'Pick Your Savings'\n",
      " 'Double Your Savings' 'Mystery Sale' 'Super Wallet Savers']\n",
      "Unique values in column sales_country: ['USA' 'Mexico' 'Canada']\n",
      "Unique values in column marital_status: ['M' 'S']\n",
      "Unique values in column gender: ['F' 'M']\n",
      "Unique values in column education: ['Partial High School' 'Bachelors Degree' 'High School Degree'\n",
      " 'Graduate Degree' 'Partial College']\n",
      "Unique values in column member_card: ['Normal' 'Silver' 'Bronze' 'Golden']\n",
      "Unique values in column occupation: ['Skilled Manual' 'Professional' 'Manual' 'Management' 'Clerical']\n",
      "Unique values in column houseowner: ['Y' 'N']\n",
      "Unique values in column avg. yearly_income: ['$10K - $30K' '$50K - $70K' '$30K - $50K' '$70K - $90K' '$110K - $130K'\n",
      " '$130K - $150K' '$150K +' '$90K - $110K']\n",
      "Unique values in column brand_name: ['Carrington' 'Golden' 'Imagine' 'Big Time' 'PigTail' 'Fantastic' 'Great'\n",
      " 'Sphinx' 'Modell' 'Colony' 'Blue Label' 'Pleasant' 'Bravo' 'Better'\n",
      " 'Just Right' 'Plato' 'BBB Best' 'Landslide' 'Super' 'CDR' 'High Top'\n",
      " 'Tri-State' 'Hermanos' 'Tell Tale' 'Ebony' 'Thresher' 'Gulf Coast'\n",
      " 'Musial' 'Atomic' 'Choice' 'Fort West' 'Nationeel' 'Horatio'\n",
      " 'Best Choice' 'Fast' 'Gorilla' 'Carlson' 'Even Better' 'Club' 'Booker'\n",
      " 'Shady Lake' 'Monarch' 'Discover' 'Colossal' 'Medalist' 'Jardon'\n",
      " 'Cormorant' 'Sunset' 'Red Wing' 'High Quality' 'Denny' 'Faux Products'\n",
      " 'Steady' 'Consolidated' 'Bird Call' 'Hilltop' 'Ship Shape' 'Footnote'\n",
      " 'Genteel' 'Quick' 'Gerolli' 'Excellent' 'Fabulous' 'Token' 'Skinner'\n",
      " 'Washington' 'Dual City' 'Kiwi' 'Tip Top' 'Amigo' 'Curlew' 'Moms'\n",
      " 'Cutting Edge' 'Red Spade' 'Lake' 'American' 'Walrus' 'Pearl' 'Good'\n",
      " 'Top Measure' 'Portsmouth' 'Toucan' 'Applause' 'Swell' 'Green Ribbon'\n",
      " 'Big City' 'National' 'Blue Medal' 'Urban' 'Jumbo' 'Giant' 'Dollar'\n",
      " 'Mighty Good' 'Robust' 'Gauss' 'Excel' 'Radius' 'Best' 'Jeffers'\n",
      " 'Johnson' 'Special' 'Akron' 'Framton' 'Black Tie' 'Queen' 'James Bay'\n",
      " 'Toretti' 'Prelude' 'Symphony' 'ADJ' 'King']\n",
      "Unique values in column store_type: ['Deluxe Supermarket' 'Supermarket' 'Gourmet Supermarket' 'Small Grocery'\n",
      " 'Mid-Size Grocery']\n",
      "Unique values in column store_city: ['Salem' 'Tacoma' 'Seattle' 'Spokane' 'Los Angeles' 'Beverly Hills'\n",
      " 'Portland' 'Bellingham' 'Orizaba' 'Merida' 'Hidalgo' 'Mexico City'\n",
      " 'Vancouver' 'Bremerton' 'Camacho' 'Guadalajara' 'Acapulco'\n",
      " 'San Francisco' 'Victoria']\n",
      "Unique values in column store_state: ['OR' 'WA' 'CA' 'Veracruz' 'Yucatan' 'Zacatecas' 'DF' 'BC' 'Jalisco'\n",
      " 'Guerrero']\n",
      "Unique values in column media_type: ['Daily Paper, Radio' 'In-Store Coupon' 'Radio' 'Daily Paper'\n",
      " 'Product Attachment' 'Sunday Paper, Radio' 'Sunday Paper, Radio, TV'\n",
      " 'Sunday Paper' 'Street Handout' 'TV' 'Bulk Mail' 'Cash Register Handout'\n",
      " 'Daily Paper, Radio, TV']\n"
     ]
    }
   ],
   "source": [
    "for col in df.columns:\n",
    "    if df[col].dtype == 'object':\n",
    "        print(f'Unique values in column {col}: {df[col].unique()}')"
   ]
  },
  {
   "cell_type": "markdown",
   "id": "2b5b168a",
   "metadata": {
    "papermill": {
     "duration": 0.010751,
     "end_time": "2023-02-02T15:01:39.553556",
     "exception": false,
     "start_time": "2023-02-02T15:01:39.542805",
     "status": "completed"
    },
    "tags": []
   },
   "source": [
    "# Exploratory Analysis "
   ]
  },
  {
   "cell_type": "markdown",
   "id": "b7f07846",
   "metadata": {
    "papermill": {
     "duration": 0.010814,
     "end_time": "2023-02-02T15:01:39.575402",
     "exception": false,
     "start_time": "2023-02-02T15:01:39.564588",
     "status": "completed"
    },
    "tags": []
   },
   "source": [
    "****1.1 Can product characteristics including food category, food department and food family affect the cost of media campaigns?****"
   ]
  },
  {
   "cell_type": "markdown",
   "id": "fdc46ed0",
   "metadata": {
    "papermill": {
     "duration": 0.011081,
     "end_time": "2023-02-02T15:01:39.597391",
     "exception": false,
     "start_time": "2023-02-02T15:01:39.586310",
     "status": "completed"
    },
    "tags": []
   },
   "source": [
    "In my first hypothesis I want to check if th cost of media campaings differ when we consider different food category, food department and food family. I'm going to use a clustered bar chart where the bars represent food categories, food department and food family and the y-axis represents the average cost of media campaigns for each category."
   ]
  },
  {
   "cell_type": "code",
   "execution_count": 8,
   "id": "4472411e",
   "metadata": {
    "execution": {
     "iopub.execute_input": "2023-02-02T15:01:39.621494Z",
     "iopub.status.busy": "2023-02-02T15:01:39.621119Z",
     "iopub.status.idle": "2023-02-02T15:01:40.101102Z",
     "shell.execute_reply": "2023-02-02T15:01:40.100227Z"
    },
    "papermill": {
     "duration": 0.4954,
     "end_time": "2023-02-02T15:01:40.103913",
     "exception": false,
     "start_time": "2023-02-02T15:01:39.608513",
     "status": "completed"
    },
    "tags": []
   },
   "outputs": [
    {
     "data": {
      "image/png": "[encoded data removed]",
      "text/plain": [
       "<Figure size 720x360 with 1 Axes>"
      ]
     },
     "metadata": {
      "needs_background": "light"
     },
     "output_type": "display_data"
    }
   ],
   "source": [
    "grouped = df.groupby(\"food_category\").mean()[\"cost\"]\n",
    "\n",
    "grouped.plot(kind=\"bar\", x=\"food_category\", y=\"cost\", figsize=(10,5))\n",
    "plt.xlabel(\"Food Category\")\n",
    "plt.ylabel(\"Average Cost of Media Campaigns\")\n",
    "plt.title(\"Impact of Food Category on Media Campaign Cost\")\n",
    "plt.show()"
   ]
  },
  {
   "cell_type": "code",
   "execution_count": 9,
   "id": "38422fda",
   "metadata": {
    "execution": {
     "iopub.execute_input": "2023-02-02T15:01:40.129565Z",
     "iopub.status.busy": "2023-02-02T15:01:40.129156Z",
     "iopub.status.idle": "2023-02-02T15:01:40.383764Z",
     "shell.execute_reply": "2023-02-02T15:01:40.382488Z"
    },
    "papermill": {
     "duration": 0.270173,
     "end_time": "2023-02-02T15:01:40.386019",
     "exception": false,
     "start_time": "2023-02-02T15:01:40.115846",
     "status": "completed"
    },
    "tags": []
   },
   "outputs": [
    {
     "data": {
      "image/png": "[encoded data removed]",
      "text/plain": [
       "<Figure size 720x360 with 1 Axes>"
      ]
     },
     "metadata": {
      "needs_background": "light"
     },
     "output_type": "display_data"
    }
   ],
   "source": [
    "grouped = df.groupby(\"food_department\").mean()[\"cost\"]\n",
    "\n",
    "grouped.plot(kind=\"bar\", x=\"food_department\", y=\"cost\", figsize=(10,5))\n",
    "plt.xlabel(\"Food Department\")\n",
    "plt.ylabel(\"Average Cost of Media Campaigns\")\n",
    "plt.title(\"Impact of Food Category on Media Campaign Cost\")\n",
    "plt.show()"
   ]
  },
  {
   "cell_type": "code",
   "execution_count": 10,
   "id": "4a506e43",
   "metadata": {
    "execution": {
     "iopub.execute_input": "2023-02-02T15:01:40.412695Z",
     "iopub.status.busy": "2023-02-02T15:01:40.412329Z",
     "iopub.status.idle": "2023-02-02T15:01:40.565479Z",
     "shell.execute_reply": "2023-02-02T15:01:40.564397Z"
    },
    "papermill": {
     "duration": 0.170373,
     "end_time": "2023-02-02T15:01:40.568637",
     "exception": false,
     "start_time": "2023-02-02T15:01:40.398264",
     "status": "completed"
    },
    "tags": []
   },
   "outputs": [
    {
     "data": {
      "image/png": "[encoded data removed]",
      "text/plain": [
       "<Figure size 720x360 with 1 Axes>"
      ]
     },
     "metadata": {
      "needs_background": "light"
     },
     "output_type": "display_data"
    }
   ],
   "source": [
    "grouped = df.groupby(\"food_family\").mean()[\"cost\"]\n",
    "\n",
    "# plot the data\n",
    "grouped.plot(kind=\"bar\", x=\"food_family\", y=\"cost\", figsize=(10,5))\n",
    "plt.xlabel(\"Food Family\")\n",
    "plt.ylabel(\"Average Cost of Media Campaigns\")\n",
    "plt.title(\"Impact of Food Category on Media Campaign Cost\")\n",
    "plt.show()"
   ]
  },
  {
   "cell_type": "markdown",
   "id": "e70c1001",
   "metadata": {
    "papermill": {
     "duration": 0.012096,
     "end_time": "2023-02-02T15:01:40.594754",
     "exception": false,
     "start_time": "2023-02-02T15:01:40.582658",
     "status": "completed"
    },
    "tags": []
   },
   "source": [
    "It is possible to verify that the difference is very small and probably the characteristics of the product do not affect the campaign costs."
   ]
  },
  {
   "cell_type": "markdown",
   "id": "b8984d16",
   "metadata": {
    "papermill": {
     "duration": 0.012022,
     "end_time": "2023-02-02T15:01:40.619297",
     "exception": false,
     "start_time": "2023-02-02T15:01:40.607275",
     "status": "completed"
    },
    "tags": []
   },
   "source": [
    "****1.2 Can promotions offered have a significant impact on the cost of media campaigns?****"
   ]
  },
  {
   "cell_type": "markdown",
   "id": "57066270",
   "metadata": {
    "papermill": {
     "duration": 0.012456,
     "end_time": "2023-02-02T15:01:40.645415",
     "exception": false,
     "start_time": "2023-02-02T15:01:40.632959",
     "status": "completed"
    },
    "tags": []
   },
   "source": [
    "The best way to visualize the relationship between the \"promotion_name\" column and the cost of media campaigns (\"cost\" column) is to use a bar chart. Based on this graph, it is possible to assess which promotion has a significant impact on the cost of media campaigns. If the bar for a specific promotion is much higher than the others, it indicates that the cost of media campaigns is much higher for that promotion compared to the others."
   ]
  },
  {
   "cell_type": "code",
   "execution_count": 11,
   "id": "e93e8776",
   "metadata": {
    "execution": {
     "iopub.execute_input": "2023-02-02T15:01:40.671995Z",
     "iopub.status.busy": "2023-02-02T15:01:40.671603Z",
     "iopub.status.idle": "2023-02-02T15:01:42.730310Z",
     "shell.execute_reply": "2023-02-02T15:01:42.729555Z"
    },
    "papermill": {
     "duration": 2.074353,
     "end_time": "2023-02-02T15:01:42.732165",
     "exception": false,
     "start_time": "2023-02-02T15:01:40.657812",
     "status": "completed"
    },
    "tags": []
   },
   "outputs": [
    {
     "data": {
      "image/png": "[encoded data removed]",
      "text/plain": [
       "<Figure size 432x288 with 1 Axes>"
      ]
     },
     "metadata": {
      "needs_background": "light"
     },
     "output_type": "display_data"
    }
   ],
   "source": [
    "sns.barplot(x='cost', y='promotion_name', data=df)\n",
    "\n",
    "plt.title(\"Impact of Promotion on Media Campaign Cost\")\n",
    "plt.xlabel(\"Cost\")\n",
    "plt.ylabel(\"Promotion Name\")\n",
    "plt.show()"
   ]
  },
  {
   "cell_type": "markdown",
   "id": "c80f23fe",
   "metadata": {
    "papermill": {
     "duration": 0.012847,
     "end_time": "2023-02-02T15:01:42.758845",
     "exception": false,
     "start_time": "2023-02-02T15:01:42.745998",
     "status": "completed"
    },
    "tags": []
   },
   "source": [
    "Visualizing the graph, it can be concluded that some promotions have a much higher cost than others. In addition, you can compare the average cost for different promotions and evaluate the cost effectiveness of media campaigns.\n",
    "\n",
    "The chart also confirms that promotions can significantly affect the cost of campaigns."
   ]
  },
  {
   "cell_type": "markdown",
   "id": "c57e5ca0",
   "metadata": {
    "papermill": {
     "duration": 0.012699,
     "end_time": "2023-02-02T15:01:42.784666",
     "exception": false,
     "start_time": "2023-02-02T15:01:42.771967",
     "status": "completed"
    },
    "tags": []
   },
   "source": [
    "****1.3 Can consumer demographics, including average annual income, marital status and gender, affect the cost of media campaigns?****"
   ]
  },
  {
   "cell_type": "markdown",
   "id": "fbf91373",
   "metadata": {
    "papermill": {
     "duration": 0.01279,
     "end_time": "2023-02-02T15:01:42.810494",
     "exception": false,
     "start_time": "2023-02-02T15:01:42.797704",
     "status": "completed"
    },
    "tags": []
   },
   "source": [
    "From the graph, one can observe the relationship between consumer demographic variables and the cost of media campaigns. For example, it is possible if there is a tendency for the cost of media campaigns to be higher or lower relative to average annual income, marital status or gender of consumers. In addition, there is the possibility of identifying whether there is a concentration of high cost values in certain demographic groups. This can provide valuable information to align your marketing strategy and maximize your return on investment."
   ]
  },
  {
   "cell_type": "code",
   "execution_count": 12,
   "id": "a814198b",
   "metadata": {
    "execution": {
     "iopub.execute_input": "2023-02-02T15:01:42.838482Z",
     "iopub.status.busy": "2023-02-02T15:01:42.837599Z",
     "iopub.status.idle": "2023-02-02T15:01:44.035461Z",
     "shell.execute_reply": "2023-02-02T15:01:44.034332Z"
    },
    "papermill": {
     "duration": 1.214154,
     "end_time": "2023-02-02T15:01:44.037615",
     "exception": false,
     "start_time": "2023-02-02T15:01:42.823461",
     "status": "completed"
    },
    "tags": []
   },
   "outputs": [
    {
     "data": {
      "image/png": "[encoded data removed]",
      "text/plain": [
       "<Figure size 432x288 with 1 Axes>"
      ]
     },
     "metadata": {
      "needs_background": "light"
     },
     "output_type": "display_data"
    }
   ],
   "source": [
    "df_sorted = df.sort_values(\"cost\", ascending=False)\n",
    "sns.barplot(x='cost', y='avg. yearly_income', data=df_sorted)\n",
    "\n",
    "plt.xlabel(\"Cost\")\n",
    "plt.ylabel(\"Avg Yearly Income\")\n",
    "plt.show()"
   ]
  },
  {
   "cell_type": "code",
   "execution_count": 13,
   "id": "fe43cf5d",
   "metadata": {
    "execution": {
     "iopub.execute_input": "2023-02-02T15:01:44.064897Z",
     "iopub.status.busy": "2023-02-02T15:01:44.064573Z",
     "iopub.status.idle": "2023-02-02T15:01:44.881292Z",
     "shell.execute_reply": "2023-02-02T15:01:44.880480Z"
    },
    "papermill": {
     "duration": 0.837899,
     "end_time": "2023-02-02T15:01:44.888579",
     "exception": false,
     "start_time": "2023-02-02T15:01:44.050680",
     "status": "completed"
    },
    "tags": []
   },
   "outputs": [
    {
     "data": {
      "image/png": "[encoded data removed]",
      "text/plain": [
       "<Figure size 720x432 with 1 Axes>"
      ]
     },
     "metadata": {
      "needs_background": "light"
     },
     "output_type": "display_data"
    }
   ],
   "source": [
    "plt.figure(figsize=(10, 6))\n",
    "sns.barplot(x='gender', y='cost', data=df)\n",
    "plt.xlabel('Gender')\n",
    "plt.ylabel('Cost')\n",
    "plt.title('Cost of Media Campaigns by Gender')\n",
    "plt.show()"
   ]
  },
  {
   "cell_type": "code",
   "execution_count": 14,
   "id": "047a6cbf",
   "metadata": {
    "execution": {
     "iopub.execute_input": "2023-02-02T15:01:44.924952Z",
     "iopub.status.busy": "2023-02-02T15:01:44.924550Z",
     "iopub.status.idle": "2023-02-02T15:01:45.082780Z",
     "shell.execute_reply": "2023-02-02T15:01:45.081661Z"
    },
    "papermill": {
     "duration": 0.177425,
     "end_time": "2023-02-02T15:01:45.084854",
     "exception": false,
     "start_time": "2023-02-02T15:01:44.907429",
     "status": "completed"
    },
    "tags": []
   },
   "outputs": [
    {
     "data": {
      "image/png": "[encoded data removed]",
      "text/plain": [
       "<Figure size 720x432 with 1 Axes>"
      ]
     },
     "metadata": {
      "needs_background": "light"
     },
     "output_type": "display_data"
    }
   ],
   "source": [
    "plt.figure(figsize=(10, 6))\n",
    "sns.boxplot(x='marital_status', y='cost', data=df)\n",
    "plt.xlabel('Marital Status')\n",
    "plt.ylabel('Cost')\n",
    "plt.title('Cost of Media Campaigns by Marital Status')\n",
    "plt.show()"
   ]
  },
  {
   "cell_type": "markdown",
   "id": "d334aaf1",
   "metadata": {
    "papermill": {
     "duration": 0.013672,
     "end_time": "2023-02-02T15:01:45.117462",
     "exception": false,
     "start_time": "2023-02-02T15:01:45.103790",
     "status": "completed"
    },
    "tags": []
   },
   "source": [
    "From the graph, it can be seen that the cost of media campaigns is not directly related to a single consumer demographic variable, such as average annual income, marital status or gender. The cost appears to be evenly distributed across demographic groups, which suggests that other factors can have a significant impact on the cost of media campaigns."
   ]
  },
  {
   "cell_type": "markdown",
   "id": "be1d166c",
   "metadata": {
    "papermill": {
     "duration": 0.013339,
     "end_time": "2023-02-02T15:01:45.144167",
     "exception": false,
     "start_time": "2023-02-02T15:01:45.130828",
     "status": "completed"
    },
    "tags": []
   },
   "source": [
    "# Simple Data Cleaning & Feature Selection"
   ]
  },
  {
   "cell_type": "markdown",
   "id": "c7911eee",
   "metadata": {
    "papermill": {
     "duration": 0.013347,
     "end_time": "2023-02-02T15:01:45.171847",
     "exception": false,
     "start_time": "2023-02-02T15:01:45.158500",
     "status": "completed"
    },
    "tags": []
   },
   "source": [
    "****Numerical features****"
   ]
  },
  {
   "cell_type": "markdown",
   "id": "69344fe0",
   "metadata": {
    "papermill": {
     "duration": 0.01357,
     "end_time": "2023-02-02T15:01:45.199306",
     "exception": false,
     "start_time": "2023-02-02T15:01:45.185736",
     "status": "completed"
    },
    "tags": []
   },
   "source": [
    "Now is the time to look at the correlation matrix"
   ]
  },
  {
   "cell_type": "code",
   "execution_count": 15,
   "id": "94b4e878",
   "metadata": {
    "execution": {
     "iopub.execute_input": "2023-02-02T15:01:45.228684Z",
     "iopub.status.busy": "2023-02-02T15:01:45.228082Z",
     "iopub.status.idle": "2023-02-02T15:01:45.812100Z",
     "shell.execute_reply": "2023-02-02T15:01:45.811459Z"
    },
    "papermill": {
     "duration": 0.601451,
     "end_time": "2023-02-02T15:01:45.814395",
     "exception": false,
     "start_time": "2023-02-02T15:01:45.212944",
     "status": "completed"
    },
    "tags": []
   },
   "outputs": [
    {
     "data": {
      "image/png": "[encoded data removed]",
      "text/plain": [
       "<Figure size 1080x720 with 2 Axes>"
      ]
     },
     "metadata": {
      "needs_background": "light"
     },
     "output_type": "display_data"
    }
   ],
   "source": [
    "plt.figure(figsize=(15,10))\n",
    "sns.heatmap(df.corr(), cmap='coolwarm')\n",
    "plt.show()\n"
   ]
  },
  {
   "cell_type": "markdown",
   "id": "4a66068b",
   "metadata": {
    "papermill": {
     "duration": 0.013777,
     "end_time": "2023-02-02T15:01:45.842707",
     "exception": false,
     "start_time": "2023-02-02T15:01:45.828930",
     "status": "completed"
    },
    "tags": []
   },
   "source": [
    "Clearly, there are 2 main groups that are correlated. The first refers to the size of the store and its sections and the second group if the store has specific sections. I will not remove these variables as they may be important later on. There are also some variables that can be discarded because there is collinearity."
   ]
  },
  {
   "cell_type": "markdown",
   "id": "07156009",
   "metadata": {
    "papermill": {
     "duration": 0.013739,
     "end_time": "2023-02-02T15:01:45.870668",
     "exception": false,
     "start_time": "2023-02-02T15:01:45.856929",
     "status": "completed"
    },
    "tags": []
   },
   "source": [
    "****Categorical features****"
   ]
  },
  {
   "cell_type": "markdown",
   "id": "679e9568",
   "metadata": {
    "papermill": {
     "duration": 0.014336,
     "end_time": "2023-02-02T15:01:45.898970",
     "exception": false,
     "start_time": "2023-02-02T15:01:45.884634",
     "status": "completed"
    },
    "tags": []
   },
   "source": [
    "Before transforming categorical variables into dummy ones. It is necessary to understand if any really affect the target variable. The easiest way to analyze this is with the ANOVA test."
   ]
  },
  {
   "cell_type": "markdown",
   "id": "1e1386f9",
   "metadata": {
    "papermill": {
     "duration": 0.014129,
     "end_time": "2023-02-02T15:01:45.927607",
     "exception": false,
     "start_time": "2023-02-02T15:01:45.913478",
     "status": "completed"
    },
    "tags": []
   },
   "source": [
    "ANOVA stands for Analysis of Variance, and it is a statistical test used to determine if there is a significant difference between the means of two or more groups. It tests the null hypothesis that the means of all groups are equal, and if the null hypothesis is rejected, it implies that at least one of the means is significantly different from the others."
   ]
  },
  {
   "cell_type": "code",
   "execution_count": 16,
   "id": "ab6937ea",
   "metadata": {
    "execution": {
     "iopub.execute_input": "2023-02-02T15:01:45.958319Z",
     "iopub.status.busy": "2023-02-02T15:01:45.957762Z",
     "iopub.status.idle": "2023-02-02T15:01:47.940218Z",
     "shell.execute_reply": "2023-02-02T15:01:47.938493Z"
    },
    "papermill": {
     "duration": 2.000628,
     "end_time": "2023-02-02T15:01:47.942513",
     "exception": false,
     "start_time": "2023-02-02T15:01:45.941885",
     "status": "completed"
    },
    "tags": []
   },
   "outputs": [
    {
     "name": "stdout",
     "output_type": "stream",
     "text": [
      "Feature: food_category \n",
      "F-value: 1.0212550873261148 \n",
      "P-value: 0.4325438230732246 \n",
      "\n",
      "Feature: food_department \n",
      "F-value: 0.6868490712925649 \n",
      "P-value: 0.8506897382757871 \n",
      "\n",
      "Feature: food_family \n",
      "F-value: 1.03102899108677 \n",
      "P-value: 0.35664606660173953 \n",
      "\n",
      "Feature: promotion_name \n",
      "F-value: 454.0647273463364 \n",
      "P-value: 0.0 \n",
      "\n",
      "Feature: sales_country \n",
      "F-value: 44.985904817057566 \n",
      "P-value: 3.0019301420239117e-20 \n",
      "\n",
      "Feature: marital_status \n",
      "F-value: 0.029707400577163263 \n",
      "P-value: 0.8631563917576258 \n",
      "\n",
      "Feature: gender \n",
      "F-value: 4.472945841207932 \n",
      "P-value: 0.03443965471558935 \n",
      "\n",
      "Feature: education \n",
      "F-value: 1.542777774598959 \n",
      "P-value: 0.18674384660050244 \n",
      "\n",
      "Feature: member_card \n",
      "F-value: 0.8483730671154943 \n",
      "P-value: 0.46719798915227095 \n",
      "\n",
      "Feature: occupation \n",
      "F-value: 5.615314247820937 \n",
      "P-value: 0.00016248261520451592 \n",
      "\n",
      "Feature: houseowner \n",
      "F-value: 0.6935521011924988 \n",
      "P-value: 0.4049620923932402 \n",
      "\n",
      "Feature: avg. yearly_income \n",
      "F-value: 3.638461844984919 \n",
      "P-value: 0.0006274139823252019 \n",
      "\n",
      "Feature: brand_name \n",
      "F-value: 0.8860279971656346 \n",
      "P-value: 0.797758338158044 \n",
      "\n",
      "Feature: store_type \n",
      "F-value: 343.5496406097237 \n",
      "P-value: 5.850268587109767e-293 \n",
      "\n",
      "Feature: store_city \n",
      "F-value: 180.32167090275343 \n",
      "P-value: 0.0 \n",
      "\n",
      "Feature: store_state \n",
      "F-value: 175.32598589383122 \n",
      "P-value: 0.0 \n",
      "\n",
      "Feature: media_type \n",
      "F-value: 361.6750863136824 \n",
      "P-value: 0.0 \n",
      "\n"
     ]
    }
   ],
   "source": [
    "import scipy.stats as stats\n",
    "\n",
    "categorical_features = df.select_dtypes(include='object').columns\n",
    "for feature in categorical_features:\n",
    "    groups = []\n",
    "    for value in df[feature].unique():\n",
    "        groups.append(df[df[feature] == value]['cost'])\n",
    "    f, p = stats.f_oneway(*groups)\n",
    "    print(f\"Feature: {feature} \\nF-value: {f} \\nP-value: {p} \\n\")\n"
   ]
  },
  {
   "cell_type": "markdown",
   "id": "9e0296ee",
   "metadata": {
    "papermill": {
     "duration": 0.014448,
     "end_time": "2023-02-02T15:01:47.972024",
     "exception": false,
     "start_time": "2023-02-02T15:01:47.957576",
     "status": "completed"
    },
    "tags": []
   },
   "source": [
    "The F value is used to assess the importance of an independent variable in relation to the dependent variable. The larger the F value, the greater the importance of the independent variable. The P value, on the other hand, measures the probability that the difference observed in the dependent variable between the categories of the independent variable is just the result of chance. A low P-value indicates that the probability is small and the relationship between the variables is significant.\n",
    "\n",
    "Categorical variables with P value greater than 0.05 and F value close to 1 can be discarded, this indicates that the null hypothesis (there is no significant difference between the means of categorical variables and the target variable) is not rejected. That is, the categorical variable does not have a strong influence on the target variable. A P-Value less than 0.05 and an F-Value significantly greater than 1 indicate that the null hypothesis is rejected, that is, there is a significant difference between the means of the categorical variables and the target variable."
   ]
  },
  {
   "cell_type": "code",
   "execution_count": 17,
   "id": "64760110",
   "metadata": {
    "execution": {
     "iopub.execute_input": "2023-02-02T15:01:48.002380Z",
     "iopub.status.busy": "2023-02-02T15:01:48.002001Z",
     "iopub.status.idle": "2023-02-02T15:01:48.012805Z",
     "shell.execute_reply": "2023-02-02T15:01:48.012080Z"
    },
    "papermill": {
     "duration": 0.028178,
     "end_time": "2023-02-02T15:01:48.014683",
     "exception": false,
     "start_time": "2023-02-02T15:01:47.986505",
     "status": "completed"
    },
    "tags": []
   },
   "outputs": [],
   "source": [
    "features_to_drop = ['avg_cars_at home(approx).1', 'net_weight', 'meat_sqft', 'salad_bar', 'food_category', 'food_department', 'food_family', 'sales_country', 'marital_status', 'education', 'member_card', 'houseowner', 'brand_name']\n",
    "\n",
    "df.drop(columns=features_to_drop, inplace=True)"
   ]
  },
  {
   "cell_type": "code",
   "execution_count": 18,
   "id": "edd76d35",
   "metadata": {
    "execution": {
     "iopub.execute_input": "2023-02-02T15:01:48.045746Z",
     "iopub.status.busy": "2023-02-02T15:01:48.045221Z",
     "iopub.status.idle": "2023-02-02T15:01:48.075089Z",
     "shell.execute_reply": "2023-02-02T15:01:48.074217Z"
    },
    "papermill": {
     "duration": 0.048893,
     "end_time": "2023-02-02T15:01:48.078066",
     "exception": false,
     "start_time": "2023-02-02T15:01:48.029173",
     "status": "completed"
    },
    "tags": []
   },
   "outputs": [
    {
     "name": "stdout",
     "output_type": "stream",
     "text": [
      "<class 'pandas.core.frame.DataFrame'>\n",
      "RangeIndex: 60428 entries, 0 to 60427\n",
      "Data columns (total 27 columns):\n",
      " #   Column                    Non-Null Count  Dtype  \n",
      "---  ------                    --------------  -----  \n",
      " 0   store_sales(in millions)  60428 non-null  float64\n",
      " 1   store_cost(in millions)   60428 non-null  float64\n",
      " 2   unit_sales(in millions)   60428 non-null  float64\n",
      " 3   promotion_name            60428 non-null  object \n",
      " 4   gender                    60428 non-null  object \n",
      " 5   total_children            60428 non-null  float64\n",
      " 6   occupation                60428 non-null  object \n",
      " 7   avg_cars_at home(approx)  60428 non-null  float64\n",
      " 8   avg. yearly_income        60428 non-null  object \n",
      " 9   num_children_at_home      60428 non-null  float64\n",
      " 10  SRP                       60428 non-null  float64\n",
      " 11  gross_weight              60428 non-null  float64\n",
      " 12  recyclable_package        60428 non-null  float64\n",
      " 13  low_fat                   60428 non-null  float64\n",
      " 14  units_per_case            60428 non-null  float64\n",
      " 15  store_type                60428 non-null  object \n",
      " 16  store_city                60428 non-null  object \n",
      " 17  store_state               60428 non-null  object \n",
      " 18  store_sqft                60428 non-null  float64\n",
      " 19  grocery_sqft              60428 non-null  float64\n",
      " 20  frozen_sqft               60428 non-null  float64\n",
      " 21  coffee_bar                60428 non-null  float64\n",
      " 22  video_store               60428 non-null  float64\n",
      " 23  prepared_food             60428 non-null  float64\n",
      " 24  florist                   60428 non-null  float64\n",
      " 25  media_type                60428 non-null  object \n",
      " 26  cost                      60428 non-null  float64\n",
      "dtypes: float64(19), object(8)\n",
      "memory usage: 12.4+ MB\n"
     ]
    }
   ],
   "source": [
    "df.info()"
   ]
  },
  {
   "cell_type": "markdown",
   "id": "b397accb",
   "metadata": {
    "papermill": {
     "duration": 0.014108,
     "end_time": "2023-02-02T15:01:48.106941",
     "exception": false,
     "start_time": "2023-02-02T15:01:48.092833",
     "status": "completed"
    },
    "tags": []
   },
   "source": [
    "The last step is to convert the categorical variables into dummy variables"
   ]
  },
  {
   "cell_type": "code",
   "execution_count": 19,
   "id": "660f60b2",
   "metadata": {
    "execution": {
     "iopub.execute_input": "2023-02-02T15:01:48.137534Z",
     "iopub.status.busy": "2023-02-02T15:01:48.136979Z",
     "iopub.status.idle": "2023-02-02T15:01:48.234444Z",
     "shell.execute_reply": "2023-02-02T15:01:48.233542Z"
    },
    "papermill": {
     "duration": 0.115392,
     "end_time": "2023-02-02T15:01:48.236758",
     "exception": false,
     "start_time": "2023-02-02T15:01:48.121366",
     "status": "completed"
    },
    "tags": []
   },
   "outputs": [],
   "source": [
    "df = pd.get_dummies(df, columns=['promotion_name', 'gender', 'occupation', 'avg. yearly_income', 'store_type', 'store_city', 'store_state', 'media_type'])"
   ]
  },
  {
   "cell_type": "markdown",
   "id": "57b840ef",
   "metadata": {
    "execution": {
     "iopub.execute_input": "2023-01-31T10:29:04.765149Z",
     "iopub.status.busy": "2023-01-31T10:29:04.764187Z",
     "iopub.status.idle": "2023-01-31T10:29:04.795798Z",
     "shell.execute_reply": "2023-01-31T10:29:04.795010Z",
     "shell.execute_reply.started": "2023-01-31T10:29:04.765108Z"
    },
    "papermill": {
     "duration": 0.013962,
     "end_time": "2023-02-02T15:01:48.265224",
     "exception": false,
     "start_time": "2023-02-02T15:01:48.251262",
     "status": "completed"
    },
    "tags": []
   },
   "source": [
    "Now the dataset is ready for modeling"
   ]
  },
  {
   "cell_type": "markdown",
   "id": "7cfc2492",
   "metadata": {
    "papermill": {
     "duration": 0.01436,
     "end_time": "2023-02-02T15:01:48.293668",
     "exception": false,
     "start_time": "2023-02-02T15:01:48.279308",
     "status": "completed"
    },
    "tags": []
   },
   "source": [
    "# Machine Learning"
   ]
  },
  {
   "cell_type": "markdown",
   "id": "3bb3675b",
   "metadata": {
    "papermill": {
     "duration": 0.014284,
     "end_time": "2023-02-02T15:01:48.322432",
     "exception": false,
     "start_time": "2023-02-02T15:01:48.308148",
     "status": "completed"
    },
    "tags": []
   },
   "source": [
    "****Model 1: Linear regression on cost****"
   ]
  },
  {
   "cell_type": "code",
   "execution_count": 20,
   "id": "ebf985e2",
   "metadata": {
    "execution": {
     "iopub.execute_input": "2023-02-02T15:01:48.354227Z",
     "iopub.status.busy": "2023-02-02T15:01:48.352622Z",
     "iopub.status.idle": "2023-02-02T15:01:48.825607Z",
     "shell.execute_reply": "2023-02-02T15:01:48.824639Z"
    },
    "papermill": {
     "duration": 0.490639,
     "end_time": "2023-02-02T15:01:48.827613",
     "exception": false,
     "start_time": "2023-02-02T15:01:48.336974",
     "status": "completed"
    },
    "tags": []
   },
   "outputs": [
    {
     "name": "stdout",
     "output_type": "stream",
     "text": [
      "Mean Squared Error:  575.2854851260887\n",
      "R^2 Score:  0.3599212300081479\n"
     ]
    }
   ],
   "source": [
    "from sklearn.linear_model import LinearRegression\n",
    "from sklearn.metrics import mean_squared_error, r2_score\n",
    "\n",
    "X = df.drop(columns='cost')\n",
    "y = df['cost']\n",
    "\n",
    "train_ratio = 0.8\n",
    "n_rows = df.shape[0]\n",
    "train_rows = int(n_rows * train_ratio)\n",
    "X_train = X[:train_rows]\n",
    "y_train = y[:train_rows]\n",
    "X_test = X[train_rows:]\n",
    "y_test = y[train_rows:]\n",
    "\n",
    "reg = LinearRegression()\n",
    "reg.fit(X_train, y_train)\n",
    "\n",
    "y_pred = reg.predict(X_test)\n",
    "\n",
    "mse = mean_squared_error(y_test, y_pred)\n",
    "r2 = r2_score(y_test, y_pred)\n",
    "\n",
    "print(\"Mean Squared Error: \", mse)\n",
    "print(\"R^2 Score: \", r2)"
   ]
  },
  {
   "cell_type": "markdown",
   "id": "c27dd513",
   "metadata": {
    "papermill": {
     "duration": 0.041367,
     "end_time": "2023-02-02T15:01:48.900071",
     "exception": false,
     "start_time": "2023-02-02T15:01:48.858704",
     "status": "completed"
    },
    "tags": []
   },
   "source": [
    "The Mean Squared Error (MSE) is a measure of how far the predicted values are from the actual values. The lower the MSE, the better the model performance. The value of 575.29 indicates that the mean squared difference between predicted values and actual values is 575.29.\n",
    "\n",
    "The R^2 Score is a measure of the quality of the relationship between the dependent variable and the independent variables. The value of 0.36 indicates that 36% of the variation in the dependent variable can be explained by the variation in the independent variables. Values close to 1 indicate a strong linear relationship between the variables, while values close to 0 indicate a weak or null relationship."
   ]
  },
  {
   "cell_type": "markdown",
   "id": "71300d78",
   "metadata": {
    "papermill": {
     "duration": 0.017046,
     "end_time": "2023-02-02T15:01:48.945458",
     "exception": false,
     "start_time": "2023-02-02T15:01:48.928412",
     "status": "completed"
    },
    "tags": []
   },
   "source": [
    "****Model 2: LASSO regression on cost****"
   ]
  },
  {
   "cell_type": "code",
   "execution_count": 21,
   "id": "0bdf1bb0",
   "metadata": {
    "execution": {
     "iopub.execute_input": "2023-02-02T15:01:48.976663Z",
     "iopub.status.busy": "2023-02-02T15:01:48.976326Z",
     "iopub.status.idle": "2023-02-02T15:01:53.492102Z",
     "shell.execute_reply": "2023-02-02T15:01:53.490961Z"
    },
    "papermill": {
     "duration": 4.533899,
     "end_time": "2023-02-02T15:01:53.494286",
     "exception": false,
     "start_time": "2023-02-02T15:01:48.960387",
     "status": "completed"
    },
    "tags": []
   },
   "outputs": [
    {
     "name": "stdout",
     "output_type": "stream",
     "text": [
      "Mean Squared Error:  581.8407445221745\n",
      "R^2 Score:  0.3539844972152528\n"
     ]
    },
    {
     "name": "stderr",
     "output_type": "stream",
     "text": [
      "/opt/conda/lib/python3.7/site-packages/sklearn/linear_model/_coordinate_descent.py:648: ConvergenceWarning: Objective did not converge. You might want to increase the number of iterations, check the scale of the features or consider increasing regularisation. Duality gap: 6.553e+06, tolerance: 5.443e+03\n",
      "  coef_, l1_reg, l2_reg, X, y, max_iter, tol, rng, random, positive\n"
     ]
    }
   ],
   "source": [
    "from sklearn.linear_model import Lasso\n",
    "\n",
    "lasso = Lasso(alpha=0.01)\n",
    "lasso.fit(X, y)\n",
    "\n",
    "y_pred = lasso.predict(X)\n",
    "mse = mean_squared_error(y, y_pred)\n",
    "r2 = r2_score(y, y_pred)\n",
    "print(\"Mean Squared Error: \", mse)\n",
    "print(\"R^2 Score: \", r2)"
   ]
  },
  {
   "cell_type": "markdown",
   "id": "44ec7746",
   "metadata": {
    "papermill": {
     "duration": 0.041467,
     "end_time": "2023-02-02T15:01:53.569720",
     "exception": false,
     "start_time": "2023-02-02T15:01:53.528253",
     "status": "completed"
    },
    "tags": []
   },
   "source": [
    "The R^2 Score was similar to the linear regression. But I'm more interested in the coefficients"
   ]
  },
  {
   "cell_type": "code",
   "execution_count": 22,
   "id": "07d682a5",
   "metadata": {
    "execution": {
     "iopub.execute_input": "2023-02-02T15:01:53.611272Z",
     "iopub.status.busy": "2023-02-02T15:01:53.610934Z",
     "iopub.status.idle": "2023-02-02T15:01:53.622514Z",
     "shell.execute_reply": "2023-02-02T15:01:53.621668Z"
    },
    "papermill": {
     "duration": 0.033176,
     "end_time": "2023-02-02T15:01:53.624223",
     "exception": false,
     "start_time": "2023-02-02T15:01:53.591047",
     "status": "completed"
    },
    "tags": []
   },
   "outputs": [
    {
     "data": {
      "text/html": [
       "<div>\n",
       "<style scoped>\n",
       "    .dataframe tbody tr th:only-of-type {\n",
       "        vertical-align: middle;\n",
       "    }\n",
       "\n",
       "    .dataframe tbody tr th {\n",
       "        vertical-align: top;\n",
       "    }\n",
       "\n",
       "    .dataframe thead th {\n",
       "        text-align: right;\n",
       "    }\n",
       "</style>\n",
       "<table border=\"1\" class=\"dataframe\">\n",
       "  <thead>\n",
       "    <tr style=\"text-align: right;\">\n",
       "      <th></th>\n",
       "      <th>Coefficients</th>\n",
       "    </tr>\n",
       "  </thead>\n",
       "  <tbody>\n",
       "    <tr>\n",
       "      <th>promotion_name_Price Slashers</th>\n",
       "      <td>40.535496</td>\n",
       "    </tr>\n",
       "    <tr>\n",
       "      <th>promotion_name_Dollar Days</th>\n",
       "      <td>39.210374</td>\n",
       "    </tr>\n",
       "    <tr>\n",
       "      <th>promotion_name_Fantastic Discounts</th>\n",
       "      <td>32.321013</td>\n",
       "    </tr>\n",
       "    <tr>\n",
       "      <th>promotion_name_Wallet Savers</th>\n",
       "      <td>32.239219</td>\n",
       "    </tr>\n",
       "    <tr>\n",
       "      <th>promotion_name_Money Savers</th>\n",
       "      <td>29.565746</td>\n",
       "    </tr>\n",
       "    <tr>\n",
       "      <th>...</th>\n",
       "      <td>...</td>\n",
       "    </tr>\n",
       "    <tr>\n",
       "      <th>store_city_Seattle</th>\n",
       "      <td>0.000000</td>\n",
       "    </tr>\n",
       "    <tr>\n",
       "      <th>avg. yearly_income_$150K +</th>\n",
       "      <td>0.000000</td>\n",
       "    </tr>\n",
       "    <tr>\n",
       "      <th>avg. yearly_income_$130K - $150K</th>\n",
       "      <td>0.000000</td>\n",
       "    </tr>\n",
       "    <tr>\n",
       "      <th>store_state_BC</th>\n",
       "      <td>0.000000</td>\n",
       "    </tr>\n",
       "    <tr>\n",
       "      <th>store_city_Guadalajara</th>\n",
       "      <td>0.000000</td>\n",
       "    </tr>\n",
       "  </tbody>\n",
       "</table>\n",
       "<p>129 rows × 1 columns</p>\n",
       "</div>"
      ],
      "text/plain": [
       "                                    Coefficients\n",
       "promotion_name_Price Slashers          40.535496\n",
       "promotion_name_Dollar Days             39.210374\n",
       "promotion_name_Fantastic Discounts     32.321013\n",
       "promotion_name_Wallet Savers           32.239219\n",
       "promotion_name_Money Savers            29.565746\n",
       "...                                          ...\n",
       "store_city_Seattle                      0.000000\n",
       "avg. yearly_income_$150K +              0.000000\n",
       "avg. yearly_income_$130K - $150K        0.000000\n",
       "store_state_BC                          0.000000\n",
       "store_city_Guadalajara                  0.000000\n",
       "\n",
       "[129 rows x 1 columns]"
      ]
     },
     "execution_count": 22,
     "metadata": {},
     "output_type": "execute_result"
    }
   ],
   "source": [
    "coef = pd.DataFrame(lasso.coef_, index=X.columns, columns=['Coefficients'])\n",
    "coef = coef.abs().sort_values(by='Coefficients', ascending=False)\n",
    "coef"
   ]
  },
  {
   "cell_type": "markdown",
   "id": "a6e00223",
   "metadata": {
    "papermill": {
     "duration": 0.014805,
     "end_time": "2023-02-02T15:01:53.654432",
     "exception": false,
     "start_time": "2023-02-02T15:01:53.639627",
     "status": "completed"
    },
    "tags": []
   },
   "source": [
    "The interpretation of the Lasso regression coefficients shows how much each variable explains the response variable (cost). Positive values indicate that increases in the variable result in increases in cost, while negative values indicate that increases in the variable result in decreases in cost. Values close to zero indicate that the variable has no significant impact on the cost forecast."
   ]
  },
  {
   "cell_type": "markdown",
   "id": "f3029a88",
   "metadata": {
    "papermill": {
     "duration": 0.014637,
     "end_time": "2023-02-02T15:01:53.684558",
     "exception": false,
     "start_time": "2023-02-02T15:01:53.669921",
     "status": "completed"
    },
    "tags": []
   },
   "source": [
    "****Model 3: Random Forest Regressor****"
   ]
  },
  {
   "cell_type": "code",
   "execution_count": 23,
   "id": "dd3a5cce",
   "metadata": {
    "execution": {
     "iopub.execute_input": "2023-02-02T15:01:53.717809Z",
     "iopub.status.busy": "2023-02-02T15:01:53.716877Z",
     "iopub.status.idle": "2023-02-02T15:03:10.545384Z",
     "shell.execute_reply": "2023-02-02T15:03:10.544373Z"
    },
    "papermill": {
     "duration": 76.861777,
     "end_time": "2023-02-02T15:03:10.561541",
     "exception": false,
     "start_time": "2023-02-02T15:01:53.699764",
     "status": "completed"
    },
    "tags": []
   },
   "outputs": [
    {
     "name": "stdout",
     "output_type": "stream",
     "text": [
      "Mean Squared Error:  0.7332299436207222\n",
      "R^2 Score:  0.9991841877944634\n"
     ]
    }
   ],
   "source": [
    "from sklearn.ensemble import RandomForestRegressor\n",
    "\n",
    "rf = RandomForestRegressor(n_estimators=100, random_state=42)\n",
    "rf.fit(X_train, y_train)\n",
    "\n",
    "y_pred = rf.predict(X_test)\n",
    "\n",
    "mse = mean_squared_error(y_test, y_pred)\n",
    "r2 = r2_score(y_test, y_pred)\n",
    "\n",
    "print(\"Mean Squared Error: \", mse)\n",
    "print(\"R^2 Score: \", r2)"
   ]
  },
  {
   "cell_type": "markdown",
   "id": "c2a65264",
   "metadata": {
    "papermill": {
     "duration": 0.014591,
     "end_time": "2023-02-02T15:03:10.590716",
     "exception": false,
     "start_time": "2023-02-02T15:03:10.576125",
     "status": "completed"
    },
    "tags": []
   },
   "source": [
    "The R^2 Score of 0.9995358255694058 in the Random Forest Regressor model indicates that 99.95% of the data variability is explained by the model. The R^2 Score of 0.3599212300081479 in the Linear Regression indicates that only 35.99% of the data variability is explained by the model. The difference in performance between these two models can be explained by the nature of the data or by choosing the appropriate model for the task at hand. Random Forest Regressor is known to adapt well to non-linear data and to present lower variance than Linear Regression. On the other hand, Linear Regression is a simple technique that may be easy to interpret and implement, but may not be suitable for regression tasks with non-linear data."
   ]
  },
  {
   "cell_type": "code",
   "execution_count": 24,
   "id": "34e70525",
   "metadata": {
    "execution": {
     "iopub.execute_input": "2023-02-02T15:03:10.622934Z",
     "iopub.status.busy": "2023-02-02T15:03:10.622175Z",
     "iopub.status.idle": "2023-02-02T15:03:10.714175Z",
     "shell.execute_reply": "2023-02-02T15:03:10.713257Z"
    },
    "papermill": {
     "duration": 0.1103,
     "end_time": "2023-02-02T15:03:10.715971",
     "exception": false,
     "start_time": "2023-02-02T15:03:10.605671",
     "status": "completed"
    },
    "tags": []
   },
   "outputs": [
    {
     "data": {
      "text/html": [
       "<div>\n",
       "<style scoped>\n",
       "    .dataframe tbody tr th:only-of-type {\n",
       "        vertical-align: middle;\n",
       "    }\n",
       "\n",
       "    .dataframe tbody tr th {\n",
       "        vertical-align: top;\n",
       "    }\n",
       "\n",
       "    .dataframe thead th {\n",
       "        text-align: right;\n",
       "    }\n",
       "</style>\n",
       "<table border=\"1\" class=\"dataframe\">\n",
       "  <thead>\n",
       "    <tr style=\"text-align: right;\">\n",
       "      <th></th>\n",
       "      <th>feature</th>\n",
       "      <th>importance</th>\n",
       "    </tr>\n",
       "  </thead>\n",
       "  <tbody>\n",
       "    <tr>\n",
       "      <th>0</th>\n",
       "      <td>frozen_sqft</td>\n",
       "      <td>0.047659</td>\n",
       "    </tr>\n",
       "    <tr>\n",
       "      <th>1</th>\n",
       "      <td>grocery_sqft</td>\n",
       "      <td>0.034569</td>\n",
       "    </tr>\n",
       "    <tr>\n",
       "      <th>2</th>\n",
       "      <td>promotion_name_Weekend Markdown</td>\n",
       "      <td>0.030446</td>\n",
       "    </tr>\n",
       "    <tr>\n",
       "      <th>3</th>\n",
       "      <td>promotion_name_Price Slashers</td>\n",
       "      <td>0.028787</td>\n",
       "    </tr>\n",
       "    <tr>\n",
       "      <th>4</th>\n",
       "      <td>media_type_Sunday Paper, Radio</td>\n",
       "      <td>0.026295</td>\n",
       "    </tr>\n",
       "    <tr>\n",
       "      <th>5</th>\n",
       "      <td>media_type_Cash Register Handout</td>\n",
       "      <td>0.026279</td>\n",
       "    </tr>\n",
       "    <tr>\n",
       "      <th>6</th>\n",
       "      <td>promotion_name_Big Time Discounts</td>\n",
       "      <td>0.024861</td>\n",
       "    </tr>\n",
       "    <tr>\n",
       "      <th>7</th>\n",
       "      <td>store_sqft</td>\n",
       "      <td>0.024335</td>\n",
       "    </tr>\n",
       "    <tr>\n",
       "      <th>8</th>\n",
       "      <td>promotion_name_Double Down Sale</td>\n",
       "      <td>0.023905</td>\n",
       "    </tr>\n",
       "    <tr>\n",
       "      <th>9</th>\n",
       "      <td>promotion_name_Super Savers</td>\n",
       "      <td>0.023265</td>\n",
       "    </tr>\n",
       "    <tr>\n",
       "      <th>10</th>\n",
       "      <td>promotion_name_Two for One</td>\n",
       "      <td>0.021643</td>\n",
       "    </tr>\n",
       "    <tr>\n",
       "      <th>11</th>\n",
       "      <td>promotion_name_Money Savers</td>\n",
       "      <td>0.021340</td>\n",
       "    </tr>\n",
       "    <tr>\n",
       "      <th>12</th>\n",
       "      <td>promotion_name_Price Savers</td>\n",
       "      <td>0.020717</td>\n",
       "    </tr>\n",
       "    <tr>\n",
       "      <th>13</th>\n",
       "      <td>promotion_name_Free For All</td>\n",
       "      <td>0.020393</td>\n",
       "    </tr>\n",
       "    <tr>\n",
       "      <th>14</th>\n",
       "      <td>promotion_name_Cash Register Lottery</td>\n",
       "      <td>0.019523</td>\n",
       "    </tr>\n",
       "    <tr>\n",
       "      <th>15</th>\n",
       "      <td>promotion_name_Super Duper Savers</td>\n",
       "      <td>0.018865</td>\n",
       "    </tr>\n",
       "    <tr>\n",
       "      <th>16</th>\n",
       "      <td>promotion_name_Best Savings</td>\n",
       "      <td>0.018096</td>\n",
       "    </tr>\n",
       "    <tr>\n",
       "      <th>17</th>\n",
       "      <td>store_city_Tacoma</td>\n",
       "      <td>0.017848</td>\n",
       "    </tr>\n",
       "    <tr>\n",
       "      <th>18</th>\n",
       "      <td>promotion_name_Save-It Sale</td>\n",
       "      <td>0.017057</td>\n",
       "    </tr>\n",
       "    <tr>\n",
       "      <th>19</th>\n",
       "      <td>promotion_name_Tip Top Savings</td>\n",
       "      <td>0.016736</td>\n",
       "    </tr>\n",
       "  </tbody>\n",
       "</table>\n",
       "</div>"
      ],
      "text/plain": [
       "                                 feature  importance\n",
       "0                            frozen_sqft    0.047659\n",
       "1                           grocery_sqft    0.034569\n",
       "2        promotion_name_Weekend Markdown    0.030446\n",
       "3          promotion_name_Price Slashers    0.028787\n",
       "4         media_type_Sunday Paper, Radio    0.026295\n",
       "5       media_type_Cash Register Handout    0.026279\n",
       "6      promotion_name_Big Time Discounts    0.024861\n",
       "7                             store_sqft    0.024335\n",
       "8        promotion_name_Double Down Sale    0.023905\n",
       "9            promotion_name_Super Savers    0.023265\n",
       "10            promotion_name_Two for One    0.021643\n",
       "11           promotion_name_Money Savers    0.021340\n",
       "12           promotion_name_Price Savers    0.020717\n",
       "13           promotion_name_Free For All    0.020393\n",
       "14  promotion_name_Cash Register Lottery    0.019523\n",
       "15     promotion_name_Super Duper Savers    0.018865\n",
       "16           promotion_name_Best Savings    0.018096\n",
       "17                     store_city_Tacoma    0.017848\n",
       "18           promotion_name_Save-It Sale    0.017057\n",
       "19        promotion_name_Tip Top Savings    0.016736"
      ]
     },
     "execution_count": 24,
     "metadata": {},
     "output_type": "execute_result"
    }
   ],
   "source": [
    "from sklearn.datasets import make_regression\n",
    "\n",
    "importance = rf.feature_importances_\n",
    "\n",
    "sorted_idx = importance.argsort()[::-1]\n",
    "\n",
    "feature_importance = pd.DataFrame({'feature': X_train.columns[sorted_idx], 'importance': importance[sorted_idx]})\n",
    "feature_importance.head(20)"
   ]
  },
  {
   "cell_type": "markdown",
   "id": "98495825",
   "metadata": {
    "papermill": {
     "duration": 0.014857,
     "end_time": "2023-02-02T15:03:10.746383",
     "exception": false,
     "start_time": "2023-02-02T15:03:10.731526",
     "status": "completed"
    },
    "tags": []
   },
   "source": [
    "The feature importance in a Random Forest Regressor is a measure of how much each feature contributes to the model's predictions. This can be used to identify the most important features for making predictions and can be a useful tool for feature selection. The feature importance score is calculated as the average decrease in impurity across all trees in the forest. The higher the score, the more important the feature is considered to be.\n",
    "\n"
   ]
  },
  {
   "cell_type": "markdown",
   "id": "b749ad84",
   "metadata": {
    "papermill": {
     "duration": 0.014707,
     "end_time": "2023-02-02T15:03:10.776392",
     "exception": false,
     "start_time": "2023-02-02T15:03:10.761685",
     "status": "completed"
    },
    "tags": []
   },
   "source": [
    "# Conclusion"
   ]
  },
  {
   "cell_type": "markdown",
   "id": "9db28486",
   "metadata": {
    "papermill": {
     "duration": 0.014678,
     "end_time": "2023-02-02T15:03:10.805991",
     "exception": false,
     "start_time": "2023-02-02T15:03:10.791313",
     "status": "completed"
    },
    "tags": []
   },
   "source": [
    "In this project, we aimed to predict the cost of acquiring customers in Food Mart of USA using the data of 60,000 customers. Our goal was to understand the impact of various factors such as income, product, promotion, and store features on the cost of acquiring customers.\n",
    "\n",
    "After analyzing the data, we found that some of the most important factors that affect the cost include the promotion name, media type, and store features such as grocery sqft and frozen sqft. The results of our random forest regressor showed an R^2 score of 0.9995, indicating a strong correlation between the independent and dependent variables.\n",
    "\n",
    "Our insights from the project could be useful for the Food Mart of USA to make informed decisions about their media campaigns. By understanding the impact of different factors, the company can optimize their spending on promotions and advertising to effectively acquire new customers while keeping the cost low.\n",
    "\n",
    "To convert the results of the machine learning algorithm into financial terms, we need to multiply the predicted values by the unit cost of the media campaign. For example, if the average cost per customer acquisition is 100 dollars andthe algorithm predicts the cost for a particular customer to be 80 dollars, then the expected cost for that customer would be 80 dollars. This way, we can evaluate the financial impact of the different factors on the cost of customer acquisition and make informed decisions to optimize the media campaign expenses."
   ]
  }
 ],
 "metadata": {
  "kernelspec": {
   "display_name": "Python 3",
   "language": "python",
   "name": "python3"
  },
  "language_info": {
   "codemirror_mode": {
    "name": "ipython",
    "version": 3
   },
   "file_extension": ".py",
   "mimetype": "text/x-python",
   "name": "python",
   "nbconvert_exporter": "python",
   "pygments_lexer": "ipython3",
   "version": "3.7.12"
  },
  "papermill": {
   "default_parameters": {},
   "duration": 102.449992,
   "end_time": "2023-02-02T15:03:11.543787",
   "environment_variables": {},
   "exception": null,
   "input_path": "__notebook__.ipynb",
   "output_path": "__notebook__.ipynb",
   "parameters": {},
   "start_time": "2023-02-02T15:01:29.093795",
   "version": "2.3.4"
  }
 },
 "nbformat": 4,
 "nbformat_minor": 5
}
