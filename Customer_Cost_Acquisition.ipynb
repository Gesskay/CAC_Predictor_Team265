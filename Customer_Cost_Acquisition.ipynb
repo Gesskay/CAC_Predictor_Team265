{
 "cells": [
  {
   "cell_type": "code",
   "execution_count": 107,
   "id": "8ed1b843",
   "metadata": {},
   "outputs": [],
   "source": [
    "import pandas as pd\n",
    "import seaborn as sns \n",
    "import matplotlib.pyplot as plt\n",
    "import numpy as np\n",
    "import streamlit as st\n",
    "import plotly.express as px\n",
    "import plotly.graph_objects as go\n",
    "import time\n",
    "from sklearn import tree \n",
    "import dtreeviz as dv\n"
   ]
  },
  {
   "cell_type": "code",
   "execution_count": 108,
   "id": "607948c9",
   "metadata": {},
   "outputs": [],
   "source": [
    "df=pd.read_csv(\"media prediction and its cost.csv\")\n",
    "df.head()\n",
    "plt.style.use('fivethirtyeight')"
   ]
  },
  {
   "attachments": {},
   "cell_type": "markdown",
   "id": "8908d2cf",
   "metadata": {},
   "source": [
    "<div style=\"background-color:#E7B10A;padding:30px;border-radius:10px\">\n",
    "<center>\n",
    "<h1 style=\"\">Understanding the Dataset</h1>\n",
    "</center>\n",
    "</div>"
   ]
  },
  {
   "attachments": {},
   "cell_type": "markdown",
   "id": "b56a88f5",
   "metadata": {},
   "source": [
    "<div style=\"padding:20px; background-color:#FEA1A1;border-radius:10px; font:Arial; font-size:15px;\">\n",
    "    <p>Different Columns in the Dataset</p>\n",
    "</div>"
   ]
  },
  {
   "cell_type": "code",
   "execution_count": 109,
   "id": "2bd8da25",
   "metadata": {},
   "outputs": [
    {
     "data": {
      "text/plain": [
       "Index(['food_category', 'food_department', 'food_family',\n",
       "       'store_sales(in millions)', 'store_cost(in millions)',\n",
       "       'unit_sales(in millions)', 'promotion_name', 'sales_country',\n",
       "       'marital_status', 'gender', 'total_children', 'education',\n",
       "       'member_card', 'occupation', 'houseowner', 'avg_cars_at home(approx)',\n",
       "       'avg. yearly_income', 'num_children_at_home',\n",
       "       'avg_cars_at home(approx).1', 'brand_name', 'SRP', 'gross_weight',\n",
       "       'net_weight', 'recyclable_package', 'low_fat', 'units_per_case',\n",
       "       'store_type', 'store_city', 'store_state', 'store_sqft', 'grocery_sqft',\n",
       "       'frozen_sqft', 'meat_sqft', 'coffee_bar', 'video_store', 'salad_bar',\n",
       "       'prepared_food', 'florist', 'media_type', 'cost'],\n",
       "      dtype='object')"
      ]
     },
     "execution_count": 109,
     "metadata": {},
     "output_type": "execute_result"
    }
   ],
   "source": [
    "df.columns"
   ]
  },
  {
   "cell_type": "code",
   "execution_count": 110,
   "id": "4295ee77",
   "metadata": {},
   "outputs": [
    {
     "name": "stdout",
     "output_type": "stream",
     "text": [
      "<class 'pandas.core.frame.DataFrame'>\n",
      "RangeIndex: 60429 entries, 0 to 60428\n",
      "Data columns (total 40 columns):\n",
      " #   Column                      Non-Null Count  Dtype  \n",
      "---  ------                      --------------  -----  \n",
      " 0   food_category               60428 non-null  object \n",
      " 1   food_department             60428 non-null  object \n",
      " 2   food_family                 60428 non-null  object \n",
      " 3   store_sales(in millions)    60429 non-null  float64\n",
      " 4   store_cost(in millions)     60428 non-null  float64\n",
      " 5   unit_sales(in millions)     60428 non-null  float64\n",
      " 6   promotion_name              60428 non-null  object \n",
      " 7   sales_country               60428 non-null  object \n",
      " 8   marital_status              60428 non-null  object \n",
      " 9   gender                      60428 non-null  object \n",
      " 10  total_children              60428 non-null  float64\n",
      " 11  education                   60428 non-null  object \n",
      " 12  member_card                 60428 non-null  object \n",
      " 13  occupation                  60428 non-null  object \n",
      " 14  houseowner                  60428 non-null  object \n",
      " 15  avg_cars_at home(approx)    60428 non-null  float64\n",
      " 16  avg. yearly_income          60428 non-null  object \n",
      " 17  num_children_at_home        60428 non-null  float64\n",
      " 18  avg_cars_at home(approx).1  60428 non-null  float64\n",
      " 19  brand_name                  60428 non-null  object \n",
      " 20  SRP                         60428 non-null  float64\n",
      " 21  gross_weight                60428 non-null  float64\n",
      " 22  net_weight                  60428 non-null  float64\n",
      " 23  recyclable_package          60428 non-null  float64\n",
      " 24  low_fat                     60428 non-null  float64\n",
      " 25  units_per_case              60428 non-null  float64\n",
      " 26  store_type                  60428 non-null  object \n",
      " 27  store_city                  60428 non-null  object \n",
      " 28  store_state                 60428 non-null  object \n",
      " 29  store_sqft                  60428 non-null  float64\n",
      " 30  grocery_sqft                60428 non-null  float64\n",
      " 31  frozen_sqft                 60428 non-null  float64\n",
      " 32  meat_sqft                   60428 non-null  float64\n",
      " 33  coffee_bar                  60428 non-null  float64\n",
      " 34  video_store                 60428 non-null  float64\n",
      " 35  salad_bar                   60428 non-null  float64\n",
      " 36  prepared_food               60428 non-null  float64\n",
      " 37  florist                     60428 non-null  float64\n",
      " 38  media_type                  60428 non-null  object \n",
      " 39  cost                        60428 non-null  float64\n",
      "dtypes: float64(23), object(17)\n",
      "memory usage: 18.4+ MB\n"
     ]
    },
    {
     "data": {
      "text/plain": [
       "0        $10K - $30K\n",
       "1        $50K - $70K\n",
       "2        $10K - $30K\n",
       "3        $30K - $50K\n",
       "4        $30K - $50K\n",
       "            ...     \n",
       "60424    $30K - $50K\n",
       "60425    $30K - $50K\n",
       "60426    $70K - $90K\n",
       "60427    $10K - $30K\n",
       "60428            NaN\n",
       "Name: avg. yearly_income, Length: 60429, dtype: object"
      ]
     },
     "execution_count": 110,
     "metadata": {},
     "output_type": "execute_result"
    }
   ],
   "source": [
    "df.info()\n",
    "df ['avg. yearly_income']"
   ]
  },
  {
   "cell_type": "code",
   "execution_count": null,
   "id": "2181e1cd",
   "metadata": {},
   "outputs": [],
   "source": [
    "df.dtypes.value_counts()"
   ]
  },
  {
   "attachments": {},
   "cell_type": "markdown",
   "id": "aba10c30",
   "metadata": {},
   "source": [
    "<div style=\"padding:20px; background-color:#FEA1A1;border-radius:10px; font:Arial; font-size:15px\">\n",
    "    <p>Dividing Data Based on Data Type</p>\n",
    "</div>"
   ]
  },
  {
   "cell_type": "code",
   "execution_count": null,
   "id": "269203f8",
   "metadata": {},
   "outputs": [],
   "source": [
    "print('Columns with Object data type:')\n",
    "df.columns[df.dtypes=='object']"
   ]
  },
  {
   "cell_type": "code",
   "execution_count": null,
   "id": "be5f1c2c",
   "metadata": {},
   "outputs": [],
   "source": [
    "print('columns with Float data type')\n",
    "df.columns[df.dtypes!='object']"
   ]
  },
  {
   "attachments": {},
   "cell_type": "markdown",
   "id": "5a1fd5ca",
   "metadata": {},
   "source": [
    "<div style=\"padding:20px; background-color:#FEA1A1;border-radius:10px; font:Arial; font-size:15px\">\n",
    "    <p>Discovering All Unique Values of Each Column</p>\n",
    "</div>"
   ]
  },
  {
   "cell_type": "code",
   "execution_count": null,
   "id": "ff729fb3",
   "metadata": {},
   "outputs": [],
   "source": [
    "for col in df.columns:\n",
    "    if df[col].dtype == 'object':\n",
    "        print(f'\\nUnique values in column {col}:')\n",
    "        print(df[col].unique())"
   ]
  },
  {
   "attachments": {},
   "cell_type": "markdown",
   "id": "878df7d4",
   "metadata": {},
   "source": [
    "<div style=\"background-color:#E7B10A;padding:30px;border-radius:10px;\">\n",
    "<center>\n",
    "<h1 style=\"\">Data Analysis</h1>\n",
    "</center>\n",
    "</div>"
   ]
  },
  {
   "cell_type": "code",
   "execution_count": null,
   "id": "2f8f3248",
   "metadata": {},
   "outputs": [],
   "source": [
    "_, ax = plt.subplots(3,1, figsize=(14,28))\n",
    "\n",
    "sns.countplot(ax=ax[0], data=df, x='sales_country')\n",
    "ax[0].set_ylabel(None)\n",
    "ax[0].set_xlabel(None)\n",
    "ax[0].set_title('\\nTotal Number of Article Sold by Country\\n')\n",
    "\n",
    "sns.histplot(ax=ax[1], data=df, y='store_state', hue='sales_country')\n",
    "ax[1].set_ylabel(None)\n",
    "ax[1].set_xlabel(None)\n",
    "ax[1].set_title('\\nTotal Number of Article Sold by State\\n')\n",
    "\n",
    "sns.histplot(ax=ax[2], data=df, y='store_city', hue='sales_country')\n",
    "ax[2].set_ylabel(None)\n",
    "ax[2].set_xlabel(None)\n",
    "ax[2].set_title('\\nTotal Number of Article Sold by State')\n",
    "\n",
    "plt.show()"
   ]
  },
  {
   "attachments": {},
   "cell_type": "markdown",
   "id": "51b29113",
   "metadata": {},
   "source": [
    "<div style=\"padding:15px; background-color:#98EECC;border-radius:10px; font:Arial; font-size:15px\">\n",
    "<p>The data covers stores in ten states across America</p>\n",
    "<ul>\n",
    "    <li>Three are in the United States</li>\n",
    "    <li>Six are in Mexico</li>\n",
    "    <li>One in Canada</li>\n",
    "</ul>\n",
    "<p>Their are a total of 19 cities in the data:<p>\n",
    "<ul>\n",
    "    <li>Ten in the United States</li>\n",
    "    <li>Seven in Mexico</li>\n",
    "    <li>Two in Canada</li>\n",
    "</ul>\n",
    "</div>"
   ]
  },
  {
   "cell_type": "code",
   "execution_count": null,
   "id": "6b0be630",
   "metadata": {},
   "outputs": [],
   "source": [
    "_, ax = plt.subplots(5,1, figsize=(14,28)) \n",
    "\n",
    "sns.countplot(ax=ax[0], data=df, y='gender')\n",
    "ax[0].set_ylabel(None)\n",
    "ax[0].set_xlabel(None)\n",
    "ax[0].set_yticks([1,0])\n",
    "ax[0].set_title('\\n\\nCustomer Gender (for each article bought)')\n",
    "\n",
    "sns.countplot(ax=ax[1], data=df, y='marital_status')\n",
    "ax[1].set_ylabel(None)\n",
    "ax[1].set_xlabel(None)\n",
    "ax[1].set_yticks([1,0])\n",
    "ax[1].set_title('\\n\\nCustomers Marital Status')\n",
    "\n",
    "sns.countplot(ax=ax[2], data=df, y='houseowner')\n",
    "ax[2].set_ylabel(None)\n",
    "ax[2].set_xlabel(None)\n",
    "ax[2].set_yticks([1,0])\n",
    "ax[2].set_title('\\n\\nCustomers Home Ownership')\n",
    "\n",
    "sns.countplot(ax=ax[3],data=df, y='education')\n",
    "ax[3].set_ylabel(None)\n",
    "ax[3].set_xlabel(None)\n",
    "ax[3].set_yticks([0,1,2,3,4])\n",
    "\n",
    "sns.countplot(ax=ax[4], data=df, y='occupation')\n",
    "ax[4].set_ylabel(None)\n",
    "ax[4].set_xlabel(None)\n",
    "ax[4].set_yticks([0,1,2,3,4])\n",
    "ax[4].set_title('\\n\\nCustomers Occupation Type')\n",
    "\n",
    "plt.show()"
   ]
  },
  {
   "cell_type": "code",
   "execution_count": null,
   "id": "e3c23f83",
   "metadata": {},
   "outputs": [],
   "source": [
    "_, ax = plt.subplots(4,1, figsize=(14,28))\n",
    "\n",
    "sns.countplot(ax=ax[0], data=df, y='food_family')\n",
    "ax[0].set_ylabel(None)\n",
    "ax[0].set_xlabel(None)\n",
    "ax[0].set_yticks([0,1,2])\n",
    "ax[0].set_title('\\nItems purchased by Family')\n",
    "\n",
    "sns.histplot(ax=ax[1], data=df, y='food_category', hue='food_family')\n",
    "ax[1].set_ylabel(None)\n",
    "ax[1].set_xlabel(None)\n",
    "ax[1].set_yticks([0,9,18,27,36,45])\n",
    "ax[1].set_title('\\nItems purchased by Category')\n",
    "\n",
    "sns.countplot(ax=ax[2], data=df, y='low_fat')\n",
    "ax[2].set_ylabel(None)\n",
    "ax[2].set_xlabel(None)\n",
    "ax[2].set_yticks([0,1])\n",
    "ax[2].set_title('\\nIs the product Low Fat?')\n",
    "\n",
    "sns.countplot(ax=ax[3], data=df, y='recyclable_package')\n",
    "ax[3].set_ylabel(None)\n",
    "ax[3].set_xlabel(None)\n",
    "ax[3].set_yticks([0,1])\n",
    "ax[3].set_title('\\nIs the product Recyclable?')\n",
    "\n",
    "plt.show()"
   ]
  },
  {
   "attachments": {},
   "cell_type": "markdown",
   "id": "112e95e2",
   "metadata": {},
   "source": [
    "<div style=\"padding:15px; background-color:#98EECC;border-radius:10px; font:Arial; font-size:15px\">\n",
    "<p>The dataset is evenly splitted between married and single customers.</p>\n",
    "<p>A majority of the customer have high school level, customer starting university without graduating and with a bachelor are the second group. Finally people with a graduate degree are the rarest.</p>\n",
    "</div>"
   ]
  },
  {
   "cell_type": "code",
   "execution_count": null,
   "id": "5f49dfb4",
   "metadata": {},
   "outputs": [],
   "source": [
    "import missingno as msno\n",
    "msno.bar(df,figsize=(15, 5),fontsize=10,color = '#459E97');"
   ]
  },
  {
   "attachments": {},
   "cell_type": "markdown",
   "id": "dffda39b",
   "metadata": {},
   "source": [
    "<div style=\"padding:15px; background-color:#98EECC;border-radius:10px; font:Arial; font-size:15px\">\n",
    "<p>We see that the data is cleaned so we don't have to do any terminologies to handle it.<p>\n",
    "<div>"
   ]
  },
  {
   "attachments": {},
   "cell_type": "markdown",
   "id": "9c01532d",
   "metadata": {},
   "source": [
    "<div style=\"padding:20px; background-color:#FEA1A1;border-radius:10px; font:Arial; font-size:15px\">\n",
    "    <p>Handling Outliers</p>\n",
    "</div>"
   ]
  },
  {
   "cell_type": "code",
   "execution_count": null,
   "id": "96929a03",
   "metadata": {},
   "outputs": [],
   "source": [
    "numeric_data=df[[\"store_sales(in millions)\",\"store_cost(in millions)\",\"meat_sqft\",\"frozen_sqft\",\"unit_sales(in millions)\"]]\n",
    "numeric_data.plot(subplots =True, kind = 'box', layout = (5,8), figsize = (30,30),patch_artist=True,color=\"#459E97\")\n",
    "plt.subplots_adjust(wspace = 0.5)\n",
    "plt.style.use(\"ggplot\")\n",
    "plt.show()"
   ]
  },
  {
   "cell_type": "code",
   "execution_count": null,
   "id": "e7c2a782",
   "metadata": {},
   "outputs": [],
   "source": [
    "def out_lairs(col):\n",
    "    Q1 = df[col].quantile(0.25)\n",
    "    Q3 =  df[col].quantile(0.75)\n",
    "    IQR = Q3-Q1\n",
    "    data_out = df.loc[(df[col] < (Q1-1.5*IQR)) | (df[col] > (Q3+1.5*IQR))][:10]\n",
    "    \n",
    "    return data_out \n",
    "out_lairs(\"store_sales(in millions)\")"
   ]
  },
  {
   "cell_type": "code",
   "execution_count": null,
   "id": "a9208a53",
   "metadata": {},
   "outputs": [],
   "source": [
    "plt.figure(figsize=(15,10))\n",
    "sns.heatmap(df.corr(), cmap='coolwarm')\n",
    "plt.show()"
   ]
  },
  {
   "attachments": {},
   "cell_type": "markdown",
   "id": "733320e3",
   "metadata": {},
   "source": [
    "<div style=\"padding:15px; background-color:#98EECC;border-radius:10px; font:Arial; font-size:15px\">\n",
    "<p>Clearly, there are 2 main groups that are correlated. The first refers to the size of the store and its sections and the second group if the store has specific sections. We will not remove these variables as they may be important later on.</p>\n",
    "</div>"
   ]
  },
  {
   "cell_type": "code",
   "execution_count": null,
   "id": "99188623",
   "metadata": {},
   "outputs": [],
   "source": [
    "import scipy.stats as stats\n",
    "\n",
    "categorical_features = df.select_dtypes(include='object').columns\n",
    "for feature in categorical_features:\n",
    "    groups = []\n",
    "    for value in df[feature].unique():\n",
    "        groups.append(df[df[feature] == value]['cost'])\n",
    "    f, p = stats.f_oneway(*groups)\n",
    "    print(f\"Feature: {feature} \\nF-value: {f} \\nP-value: {p} \\n\")"
   ]
  },
  {
   "attachments": {},
   "cell_type": "markdown",
   "id": "eb037c56",
   "metadata": {},
   "source": [
    "<div style=\"padding:15px; background-color:#98EECC;border-radius:10px; font:Arial; font-size:15px\">\n",
    "<p>The F value is used to assess the importance of an independent variable in relation to the dependent variable. The larger the F value, the greater the importance of the independent variable. The P value, on the other hand, measures the probability that the difference observed in the dependent variable between the categories of the independent variable is just the result of chance. A low P-value indicates that the probability is small and the relationship between the variables is significant.</p>\n",
    "</div>"
   ]
  },
  {
   "attachments": {},
   "cell_type": "markdown",
   "id": "f3c1074b",
   "metadata": {},
   "source": [
    "<div style=\"padding:20px; background-color:#FEA1A1;border-radius:10px; font:Arial; font-size:15px\">\n",
    "    <p>Dropping Unnecessary Columns</p>\n",
    "</div>"
   ]
  },
  {
   "cell_type": "code",
   "execution_count": null,
   "id": "fb621a36",
   "metadata": {},
   "outputs": [],
   "source": [
    "features_to_drop = ['avg_cars_at home(approx).1', 'net_weight', 'meat_sqft', 'salad_bar', 'food_category', 'food_department', 'food_family', 'sales_country', 'marital_status', 'education', 'member_card', 'houseowner', 'brand_name']\n",
    "\n",
    "df.drop(columns=features_to_drop, inplace=True)"
   ]
  },
  {
   "cell_type": "code",
   "execution_count": null,
   "id": "d6a6e87e",
   "metadata": {},
   "outputs": [],
   "source": [
    "categorical_cols = df.select_dtypes(include='object').columns\n",
    "from sklearn.preprocessing import LabelEncoder\n",
    "hevy_encoder = LabelEncoder()\n",
    "hevy_encoder.fit(df[categorical_cols])\n",
    "df[categorical_cols] = df[categorical_cols].apply(hevy_encoder.transform)\n",
    "df.dropna(inplace=True)\n",
    "\n",
    "df['avg. yearly_income']"
   ]
  },
  {
   "attachments": {},
   "cell_type": "markdown",
   "id": "1af0111e",
   "metadata": {},
   "source": [
    "<div style=\"background-color:#E7B10A;padding:30px;border-radius:10px;\">\n",
    "<center>\n",
    "<h1 style=\"\">Splitting Data and Building Model</h1>\n",
    "</center>\n",
    "</div>"
   ]
  },
  {
   "attachments": {},
   "cell_type": "markdown",
   "id": "c8eba4c8",
   "metadata": {},
   "source": [
    "<div style=\"padding:20px; background-color:#FEA1A1;border-radius:10px; font:Arial; font-size:15px\">\n",
    "    <p>Linear Regression</p>\n",
    "</div>"
   ]
  },
  {
   "cell_type": "code",
   "execution_count": null,
   "id": "50df6a86",
   "metadata": {},
   "outputs": [],
   "source": [
    "from sklearn.linear_model import LinearRegression\n",
    "from sklearn.metrics import mean_squared_error, r2_score\n",
    "\n",
    "X = df.drop(columns='cost')\n",
    "y = df['cost']\n",
    "\n",
    "train_ratio = 0.8\n",
    "n_rows = df.shape[0]\n",
    "train_rows = int(n_rows * train_ratio)\n",
    "X_train = X[:train_rows]\n",
    "y_train = y[:train_rows]\n",
    "X_test = X[train_rows:]\n",
    "y_test = y[train_rows:]\n",
    "\n",
    "reg = LinearRegression()\n",
    "reg.fit(X_train, y_train)\n",
    "\n",
    "y_pred = reg.predict(X_test)\n",
    "\n",
    "mse = mean_squared_error(y_test, y_pred)\n",
    "r2 = r2_score(y_test, y_pred)\n",
    "\n",
    "print(\"Mean Squared Error: \", mse)\n",
    "print(\"R^2 Score: \", r2)"
   ]
  },
  {
   "attachments": {},
   "cell_type": "markdown",
   "id": "45c584ce",
   "metadata": {},
   "source": [
    "<div style=\"padding:20px; background-color:#FEA1A1;border-radius:10px; font:Arial; font-size:15px\">\n",
    "    <p>LASSO Regression</p>\n",
    "</div>"
   ]
  },
  {
   "cell_type": "code",
   "execution_count": null,
   "id": "42c2fc67",
   "metadata": {},
   "outputs": [],
   "source": [
    "from sklearn.linear_model import Lasso\n",
    "\n",
    "lasso = Lasso(alpha=0.01)\n",
    "lasso.fit(X, y)\n",
    "\n",
    "y_pred = lasso.predict(X)\n",
    "mse = mean_squared_error(y, y_pred)\n",
    "r2 = r2_score(y, y_pred)\n",
    "print(\"Mean Squared Error: \", mse)\n",
    "print(\"R^2 Score: \", r2)"
   ]
  },
  {
   "attachments": {},
   "cell_type": "markdown",
   "id": "c32dba41",
   "metadata": {},
   "source": [
    "<div style=\"padding:20px; background-color:#FEA1A1;border-radius:10px; font:Arial; font-size:15px\">\n",
    "    <p>Random Forest Regression</p>\n",
    "</div>"
   ]
  },
  {
   "cell_type": "code",
   "execution_count": null,
   "id": "32d8f420",
   "metadata": {},
   "outputs": [],
   "source": [
    "from sklearn.ensemble import RandomForestRegressor\n",
    "\n",
    "rf = RandomForestRegressor(n_estimators=100, random_state=42)\n",
    "rf.fit(X_train, y_train)\n",
    "\n",
    "y_pred = rf.predict(X_test)\n",
    "\n",
    "mse = mean_squared_error(y_test, y_pred)\n",
    "r2 = r2_score(y_test, y_pred)\n",
    "\n",
    "print(\"Mean Squared Error: \", mse)\n",
    "print(\"R^2 Score: \", r2)"
   ]
  },
  {
   "cell_type": "code",
   "execution_count": null,
   "id": "2dbfed56",
   "metadata": {},
   "outputs": [],
   "source": [
    "rf.estimators_"
   ]
  },
  {
   "cell_type": "code",
   "execution_count": null,
   "id": "edf0b9c6",
   "metadata": {},
   "outputs": [],
   "source": [
    "plt.figure(figsize=(15,10))\n",
    "tree.plot_tree(rf.estimators_[2],filled=True)"
   ]
  },
  {
   "attachments": {},
   "cell_type": "markdown",
   "id": "906d317e",
   "metadata": {},
   "source": [
    "<div style=\"padding:15px; background-color:#98EECC;border-radius:10px; font:Arial; font-size:15px\">\n",
    "<p>\n",
    "The Mean Squared Error (MSE) is a measure of how far the predicted values are from the actual values. The lower the MSE, the better the model performance.</p>\n",
    "\n",
    "<p>The R^2 Score is a measure of the quality of the relationship between the dependent variable and the independent variables. Values close to 1 indicate a strong linear relationship between the variables, while values close to 0 indicate a weak or null relationship. The value of 0.99 indicates that 99% of the variation in the dependent variable can be explained by the variation in the independent variables.</p>\n",
    "</div>"
   ]
  }
 ],
 "metadata": {
  "kernelspec": {
   "display_name": "Python 3 (ipykernel)",
   "language": "python",
   "name": "python3"
  },
  "language_info": {
   "codemirror_mode": {
    "name": "ipython",
    "version": 3
   },
   "file_extension": ".py",
   "mimetype": "text/x-python",
   "name": "python",
   "nbconvert_exporter": "python",
   "pygments_lexer": "ipython3",
   "version": "3.9.7"
  }
 },
 "nbformat": 4,
 "nbformat_minor": 5
}
